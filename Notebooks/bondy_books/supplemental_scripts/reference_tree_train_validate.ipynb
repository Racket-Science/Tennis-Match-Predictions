{
 "cells": [
  {
   "cell_type": "code",
   "execution_count": 1,
   "id": "e9c63d30",
   "metadata": {},
   "outputs": [],
   "source": [
    "import pandas as pd\n",
    "import numpy as np\n",
    "import matplotlib.pyplot as plt\n",
    "import seaborn as sns"
   ]
  },
  {
   "cell_type": "code",
   "execution_count": null,
   "id": "d9b2fa9f",
   "metadata": {},
   "outputs": [],
   "source": [
    "def tree_train_validate(X_train, y_train, X_validate, y_validate, tree_model, min_samples_leaf):\n",
    "\n",
    "    '''\n",
    "    This function takes in train, validate and test modeling sets, a decision tree or random forest classifier model, and a specified minimum number of samples\n",
    "    per leaf, and prints out train and validate accuracy results for 10 different depths and plots the validate accuracy results for different depths.\n",
    "    '''\n",
    "\n",
    "    depth_range = range(1, 11)    # set a range of depths to explore\n",
    "\n",
    "    scores = []    # set an empty list for validate scores\n",
    "\n",
    "    metrics = []    # set an empty list for dictionaries\n",
    "\n",
    "    for depth in depth_range:    # commence loop through different max depths for Decision Tree\n",
    "\n",
    "        model = tree_model(max_depth = depth, min_samples_leaf = min_samples_leaf, random_state = 421) # create object\n",
    "\n",
    "        model.fit(X_train, y_train)    # fit object\n",
    "\n",
    "        scores.append(model.score(X_validate, y_validate))    # add validate scores to scores list\n",
    "\n",
    "        in_sample_accuracy = model.score(X_train, y_train)    # calculate accuracy on train set\n",
    "\n",
    "        out_of_sample_accuracy = model.score(X_validate, y_validate)    # calculate accuracy on validate set\n",
    "\n",
    "        output = {                                       # create dictionary with max_depth,\n",
    "            'max_depth': depth,                          # train set accuracy, and validate accuracy\n",
    "            'train_accuracy': in_sample_accuracy,        \n",
    "            'validate_accuracy': out_of_sample_accuracy\n",
    "        }\n",
    "\n",
    "        metrics.append(output)    # add dictionaries to list\n",
    "\n",
    "    plt.figure()    # create figure\n",
    "\n",
    "    plt.xlabel('depth')    # label x-axis\n",
    "\n",
    "    plt.ylabel('accuracy')    # label y-axis\n",
    "\n",
    "    plt.scatter(depth_range, scores, color = 'indianred') # plot relatiosnhip between depth range and validate accuracy\n",
    "\n",
    "    plt.xticks([0, 2, 4, 6, 8, 10])    # customize x-axis label ticks\n",
    "\n",
    "    plt.title('Validate Accuracy')    # title\n",
    "\n",
    "    plt.show();     # show\n",
    "\n",
    "    metrics_df = pd.DataFrame(metrics)    # form dataframe from scores data\n",
    "\n",
    "    metrics_df = metrics_df.set_index('max_depth')   # set index to max depth\n",
    "\n",
    "    metrics_df['difference'] = metrics_df.train_accuracy - metrics_df.validate_accuracy   # create column of values\n",
    "                                                                        # for difference between train and validate\n",
    "    print(metrics_df)         # view metrics dataframe"
   ]
  }
 ],
 "metadata": {
  "kernelspec": {
   "display_name": "Python 3",
   "language": "python",
   "name": "python3"
  },
  "language_info": {
   "codemirror_mode": {
    "name": "ipython",
    "version": 3
   },
   "file_extension": ".py",
   "mimetype": "text/x-python",
   "name": "python",
   "nbconvert_exporter": "python",
   "pygments_lexer": "ipython3",
   "version": "3.8.8"
  }
 },
 "nbformat": 4,
 "nbformat_minor": 5
}
