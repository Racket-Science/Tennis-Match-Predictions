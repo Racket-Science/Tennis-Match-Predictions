{
 "cells": [
  {
   "cell_type": "markdown",
   "id": "d76e1110",
   "metadata": {},
   "source": [
    "# Tennis Match Prediction\n",
    "#### By: Alejandro Velasquez, Chloe Whitaker, Daniel Northcutt, Mason Sherbondy"
   ]
  },
  {
   "cell_type": "markdown",
   "id": "d3a0d2f0",
   "metadata": {},
   "source": [
    "## Project Goals:\n",
    "- Create a tennis match predictor that will determine the outcome of a match\n",
    "- Explore and compare the great rivalries of current tennis stars\n",
    "- Create a model to predict if a player will reach the top 30 ranking by valuating their first 30 games\n"
   ]
  },
  {
   "cell_type": "markdown",
   "id": "008d7f65",
   "metadata": {},
   "source": [
    "## Initial Questions:\n",
    "- Does a difference in career average break points saved impact victory?\n",
    "\n",
    "- Does a difference in career average break points won impact victory?\n",
    "\n",
    "- Does a difference in career percent-of-break-points-won impact victory?\n",
    "\n",
    "- Does a difference in average forehand winners impact victory?\n",
    "\n",
    "- Does a difference in average backhand winners impact victory?\n",
    "\n",
    "- What are the drivers that determine a change in the dynamic between two players? Is there anything in our data set to suggest a change in dynamic?\n",
    "\n",
    "- How do key rivalries play out in best of 3 matches vs best of 5? Do rivalries take a different story at Grand Slam events?\n",
    "\n",
    "- How do key rivalries play out on clay? On grass? On hard court?\n",
    "\n",
    "- What characteristics and trends determine a player to become a top 30?\n",
    "\n",
    "- Does surface performance predict a player's future rank?"
   ]
  },
  {
   "cell_type": "code",
   "execution_count": 20,
   "id": "daf3f024",
   "metadata": {},
   "outputs": [],
   "source": [
    "# imports\n",
    "\n",
    "import pandas as pd\n",
    "import numpy as np\n",
    "import regex as re\n",
    "\n",
    "# Custom Helper Files\n",
    "from prepare import *\n",
    "from explore import *\n",
    "\n",
    "# Split \n",
    "from sklearn.model_selection import train_test_split\n",
    "\n",
    "# Stats\n",
    "from scipy import stats\n",
    "\n",
    "# Model\n",
    "from sklearn.tree import DecisionTreeClassifier\n",
    "from sklearn.tree import export_graphviz\n",
    "from sklearn.metrics import classification_report\n",
    "from sklearn.metrics import confusion_matrix\n",
    "from sklearn.ensemble import RandomForestClassifier\n",
    "from sklearn.neighbors import KNeighborsClassifier\n",
    "from sklearn.impute import SimpleImputer\n",
    "from sklearn.linear_model import LogisticRegression\n",
    "\n",
    "# Visualize\n",
    "import matplotlib.pyplot as plt\n",
    "import seaborn as sns\n",
    "\n",
    "# Ignore Warnings\n",
    "import warnings\n",
    "warnings.filterwarnings(\"ignore\")\n",
    "\n",
    "# Remove Limits On Viewing Dataframes\n",
    "pd.set_option('display.max_columns', None)"
   ]
  },
  {
   "cell_type": "markdown",
   "id": "04f2b6dc",
   "metadata": {},
   "source": [
    "## Executive Summary:"
   ]
  },
  {
   "cell_type": "code",
   "execution_count": null,
   "id": "f2198372",
   "metadata": {},
   "outputs": [],
   "source": []
  },
  {
   "cell_type": "markdown",
   "id": "299f09db",
   "metadata": {},
   "source": [
    "## Acquire:\n",
    "\n",
    "- Data was acquired from repo collecting Men's ATP tennis match data from 1968 - 2019\n",
    "- https://github.com/JeffSackmann (source)\n",
    "- Collected 180k rows of data"
   ]
  },
  {
   "cell_type": "markdown",
   "id": "bb4f477c",
   "metadata": {},
   "source": [
    "## ATPTotal Prepare:\n",
    "- Randomized winner & loser as player1 and player2 alphabetically \n",
    "- Filtered for matches between 1999-01-01 to 2020-01-01\n",
    "- Removed all Walk Offs and best of 1 matches\n",
    "- Set our index to tourney date w/ format to %Y%m%d\n",
    "- Dropped all values that did not provide full match statistics\n",
    "- Filtered out players that played less than 50 matches\n",
    "- 36000 matches\n",
    "\n",
    "## PlayerDatabase Prepare:\n",
    "- (Same prepares steps above)\n",
    "- Filtered for players that hit a max rank of 100 or better\n",
    "- Aggregated full stats for Aces, Breakpoints, Double Faults, Wins, and First Serve Win by Match\n",
    "- Aggregated career performance by court surface (hard, grass, clay, carpet)\n",
    "- Aggregated first 30 matches statistics - later use to predict future ranking\n"
   ]
  },
  {
   "cell_type": "code",
   "execution_count": 3,
   "id": "54e9612e",
   "metadata": {},
   "outputs": [
    {
     "data": {
      "text/plain": [
       "(35969, 80)"
      ]
     },
     "execution_count": 3,
     "metadata": {},
     "output_type": "execute_result"
    }
   ],
   "source": [
    "# pulling function - 35969 matches\n",
    "df = prepare_atp()\n",
    "df.shape"
   ]
  },
  {
   "cell_type": "code",
   "execution_count": 11,
   "id": "c391ff6f",
   "metadata": {},
   "outputs": [
    {
     "data": {
      "text/html": [
       "<div>\n",
       "<style scoped>\n",
       "    .dataframe tbody tr th:only-of-type {\n",
       "        vertical-align: middle;\n",
       "    }\n",
       "\n",
       "    .dataframe tbody tr th {\n",
       "        vertical-align: top;\n",
       "    }\n",
       "\n",
       "    .dataframe thead th {\n",
       "        text-align: right;\n",
       "    }\n",
       "</style>\n",
       "<table border=\"1\" class=\"dataframe\">\n",
       "  <thead>\n",
       "    <tr style=\"text-align: right;\">\n",
       "      <th></th>\n",
       "      <th>tourney_id</th>\n",
       "      <th>draw_size</th>\n",
       "      <th>winner</th>\n",
       "      <th>surface</th>\n",
       "      <th>tourney_level</th>\n",
       "      <th>best_of</th>\n",
       "      <th>player_1</th>\n",
       "      <th>player_2</th>\n",
       "      <th>player_1_age</th>\n",
       "      <th>player_2_age</th>\n",
       "      <th>player_1_hand</th>\n",
       "      <th>player_2_hand</th>\n",
       "      <th>player_1_ht</th>\n",
       "      <th>player_2_ht</th>\n",
       "      <th>player_1_ioc</th>\n",
       "      <th>player_2_ioc</th>\n",
       "      <th>player_1_name</th>\n",
       "      <th>player_2_name</th>\n",
       "      <th>player_1_rank</th>\n",
       "      <th>player_2_rank</th>\n",
       "      <th>player_1_rank_points</th>\n",
       "      <th>player_2_rank_points</th>\n",
       "      <th>player_1_wins</th>\n",
       "      <th>round_ER</th>\n",
       "      <th>round_F</th>\n",
       "      <th>round_QF</th>\n",
       "      <th>round_R128</th>\n",
       "      <th>round_R16</th>\n",
       "      <th>round_R32</th>\n",
       "      <th>round_R64</th>\n",
       "      <th>round_RR</th>\n",
       "      <th>round_SF</th>\n",
       "      <th>player_1_hand_R</th>\n",
       "      <th>player_1_hand_L</th>\n",
       "      <th>tourney_level_A</th>\n",
       "      <th>tourney_level_D</th>\n",
       "      <th>tourney_level_F</th>\n",
       "      <th>tourney_level_G</th>\n",
       "      <th>tourney_level_M</th>\n",
       "      <th>surface_Carpet</th>\n",
       "      <th>surface_Clay</th>\n",
       "      <th>surface_Grass</th>\n",
       "      <th>surface_Hard</th>\n",
       "      <th>winner_rank</th>\n",
       "      <th>loser_rank</th>\n",
       "      <th>ht_diff</th>\n",
       "      <th>age_diff</th>\n",
       "      <th>rank_diff</th>\n",
       "      <th>rank_points_diff</th>\n",
       "      <th>no_upset</th>\n",
       "      <th>year</th>\n",
       "    </tr>\n",
       "    <tr>\n",
       "      <th>tourney_date</th>\n",
       "      <th></th>\n",
       "      <th></th>\n",
       "      <th></th>\n",
       "      <th></th>\n",
       "      <th></th>\n",
       "      <th></th>\n",
       "      <th></th>\n",
       "      <th></th>\n",
       "      <th></th>\n",
       "      <th></th>\n",
       "      <th></th>\n",
       "      <th></th>\n",
       "      <th></th>\n",
       "      <th></th>\n",
       "      <th></th>\n",
       "      <th></th>\n",
       "      <th></th>\n",
       "      <th></th>\n",
       "      <th></th>\n",
       "      <th></th>\n",
       "      <th></th>\n",
       "      <th></th>\n",
       "      <th></th>\n",
       "      <th></th>\n",
       "      <th></th>\n",
       "      <th></th>\n",
       "      <th></th>\n",
       "      <th></th>\n",
       "      <th></th>\n",
       "      <th></th>\n",
       "      <th></th>\n",
       "      <th></th>\n",
       "      <th></th>\n",
       "      <th></th>\n",
       "      <th></th>\n",
       "      <th></th>\n",
       "      <th></th>\n",
       "      <th></th>\n",
       "      <th></th>\n",
       "      <th></th>\n",
       "      <th></th>\n",
       "      <th></th>\n",
       "      <th></th>\n",
       "      <th></th>\n",
       "      <th></th>\n",
       "      <th></th>\n",
       "      <th></th>\n",
       "      <th></th>\n",
       "      <th></th>\n",
       "      <th></th>\n",
       "      <th></th>\n",
       "    </tr>\n",
       "  </thead>\n",
       "  <tbody>\n",
       "    <tr>\n",
       "      <th>1999-01-11</th>\n",
       "      <td>1999-338</td>\n",
       "      <td>32</td>\n",
       "      <td>Lleyton Hewitt</td>\n",
       "      <td>Hard</td>\n",
       "      <td>A</td>\n",
       "      <td>3</td>\n",
       "      <td>Lleyton Hewitt</td>\n",
       "      <td>Patrick Rafter</td>\n",
       "      <td>17.878166</td>\n",
       "      <td>26.036961</td>\n",
       "      <td>R</td>\n",
       "      <td>R</td>\n",
       "      <td>180.0</td>\n",
       "      <td>185.0</td>\n",
       "      <td>AUS</td>\n",
       "      <td>AUS</td>\n",
       "      <td>Lleyton Hewitt</td>\n",
       "      <td>Patrick Rafter</td>\n",
       "      <td>104.0</td>\n",
       "      <td>4.0</td>\n",
       "      <td>456.0</td>\n",
       "      <td>3315.0</td>\n",
       "      <td>True</td>\n",
       "      <td>0</td>\n",
       "      <td>0</td>\n",
       "      <td>0</td>\n",
       "      <td>0</td>\n",
       "      <td>0</td>\n",
       "      <td>1</td>\n",
       "      <td>0</td>\n",
       "      <td>0</td>\n",
       "      <td>0</td>\n",
       "      <td>1</td>\n",
       "      <td>0</td>\n",
       "      <td>1</td>\n",
       "      <td>0</td>\n",
       "      <td>0</td>\n",
       "      <td>0</td>\n",
       "      <td>0</td>\n",
       "      <td>0</td>\n",
       "      <td>0</td>\n",
       "      <td>0</td>\n",
       "      <td>1</td>\n",
       "      <td>104.0</td>\n",
       "      <td>4.0</td>\n",
       "      <td>-5.0</td>\n",
       "      <td>-8.158795</td>\n",
       "      <td>100.0</td>\n",
       "      <td>-2859.0</td>\n",
       "      <td>False</td>\n",
       "      <td>1999</td>\n",
       "    </tr>\n",
       "  </tbody>\n",
       "</table>\n",
       "</div>"
      ],
      "text/plain": [
       "             tourney_id  draw_size          winner surface tourney_level  \\\n",
       "tourney_date                                                               \n",
       "1999-01-11     1999-338         32  Lleyton Hewitt    Hard             A   \n",
       "\n",
       "              best_of        player_1        player_2  player_1_age  \\\n",
       "tourney_date                                                          \n",
       "1999-01-11          3  Lleyton Hewitt  Patrick Rafter     17.878166   \n",
       "\n",
       "              player_2_age player_1_hand player_2_hand  player_1_ht  \\\n",
       "tourney_date                                                          \n",
       "1999-01-11       26.036961             R             R        180.0   \n",
       "\n",
       "              player_2_ht player_1_ioc player_2_ioc   player_1_name  \\\n",
       "tourney_date                                                          \n",
       "1999-01-11          185.0          AUS          AUS  Lleyton Hewitt   \n",
       "\n",
       "               player_2_name  player_1_rank  player_2_rank  \\\n",
       "tourney_date                                                 \n",
       "1999-01-11    Patrick Rafter          104.0            4.0   \n",
       "\n",
       "              player_1_rank_points  player_2_rank_points  player_1_wins  \\\n",
       "tourney_date                                                              \n",
       "1999-01-11                   456.0                3315.0           True   \n",
       "\n",
       "              round_ER  round_F  round_QF  round_R128  round_R16  round_R32  \\\n",
       "tourney_date                                                                  \n",
       "1999-01-11           0        0         0           0          0          1   \n",
       "\n",
       "              round_R64  round_RR  round_SF  player_1_hand_R  player_1_hand_L  \\\n",
       "tourney_date                                                                    \n",
       "1999-01-11            0         0         0                1                0   \n",
       "\n",
       "              tourney_level_A  tourney_level_D  tourney_level_F  \\\n",
       "tourney_date                                                      \n",
       "1999-01-11                  1                0                0   \n",
       "\n",
       "              tourney_level_G  tourney_level_M  surface_Carpet  surface_Clay  \\\n",
       "tourney_date                                                                   \n",
       "1999-01-11                  0                0               0             0   \n",
       "\n",
       "              surface_Grass  surface_Hard  winner_rank  loser_rank  ht_diff  \\\n",
       "tourney_date                                                                  \n",
       "1999-01-11                0             1        104.0         4.0     -5.0   \n",
       "\n",
       "              age_diff  rank_diff  rank_points_diff  no_upset  year  \n",
       "tourney_date                                                         \n",
       "1999-01-11   -8.158795      100.0           -2859.0     False  1999  "
      ]
     },
     "execution_count": 11,
     "metadata": {},
     "output_type": "execute_result"
    }
   ],
   "source": [
    "# confirm prepare\n",
    "df.head(1)"
   ]
  },
  {
   "cell_type": "code",
   "execution_count": 7,
   "id": "ef7c0c10",
   "metadata": {},
   "outputs": [],
   "source": [
    "# # Pulling Player Database aggregated stats of players within the time span\n",
    "# PlayerData = pd.read_csv('PlayerData.csv')\n",
    "# PlayerData.shape"
   ]
  },
  {
   "cell_type": "code",
   "execution_count": 8,
   "id": "82ae9cec",
   "metadata": {},
   "outputs": [],
   "source": [
    "## PlayerDatabase of 371 players that hit a maxrank of at least 100 and have 50 or more games\n",
    "#PlayerData.head()"
   ]
  },
  {
   "cell_type": "code",
   "execution_count": 12,
   "id": "a4c69d9a",
   "metadata": {},
   "outputs": [],
   "source": [
    "# confirm clean\n",
    "df = clean_for_model(df)"
   ]
  },
  {
   "cell_type": "code",
   "execution_count": 13,
   "id": "3502b616",
   "metadata": {},
   "outputs": [],
   "source": [
    "# split the data into train, validate, and test so that we can conform there is not overfitting on our model\n",
    "train, validate, test = train_validate_test_split(df)"
   ]
  },
  {
   "cell_type": "markdown",
   "id": "87cb64df",
   "metadata": {},
   "source": [
    "## Explore"
   ]
  },
  {
   "cell_type": "markdown",
   "id": "11e7e966",
   "metadata": {},
   "source": [
    "### What drives winning? "
   ]
  },
  {
   "cell_type": "markdown",
   "id": "f5ecb3b8",
   "metadata": {},
   "source": [
    "Plan for explore:\n",
    "\n",
    "To identify features to use in modeling, separate the groups by wins / losses and then see if there was a significant difference between variables in that group. For exapmple: I'll take all of the matches that player1 wins and get the mean rank points for player1 for that group then do the same for all of the matches where player1 loses. If there is a significant difference then hight is likely a driver of winning and losing."
   ]
  },
  {
   "cell_type": "code",
   "execution_count": 15,
   "id": "6d45c3b5",
   "metadata": {},
   "outputs": [],
   "source": [
    "# seperate player 1 wins and losses into dfs\n",
    "player_1_w = train[train['player_1_wins'] == True]\n",
    "player_1_l = train[train['player_1_wins'] == False]"
   ]
  },
  {
   "cell_type": "code",
   "execution_count": 16,
   "id": "0bc91b53",
   "metadata": {},
   "outputs": [
    {
     "data": {
      "text/html": [
       "<div>\n",
       "<style scoped>\n",
       "    .dataframe tbody tr th:only-of-type {\n",
       "        vertical-align: middle;\n",
       "    }\n",
       "\n",
       "    .dataframe tbody tr th {\n",
       "        vertical-align: top;\n",
       "    }\n",
       "\n",
       "    .dataframe thead th {\n",
       "        text-align: right;\n",
       "    }\n",
       "</style>\n",
       "<table border=\"1\" class=\"dataframe\">\n",
       "  <thead>\n",
       "    <tr style=\"text-align: right;\">\n",
       "      <th></th>\n",
       "      <th>tourney_id</th>\n",
       "      <th>draw_size</th>\n",
       "      <th>winner</th>\n",
       "      <th>surface</th>\n",
       "      <th>tourney_level</th>\n",
       "      <th>best_of</th>\n",
       "      <th>player_1</th>\n",
       "      <th>player_2</th>\n",
       "      <th>player_1_age</th>\n",
       "      <th>player_2_age</th>\n",
       "      <th>player_1_hand</th>\n",
       "      <th>player_2_hand</th>\n",
       "      <th>player_1_ht</th>\n",
       "      <th>player_2_ht</th>\n",
       "      <th>player_1_ioc</th>\n",
       "      <th>player_2_ioc</th>\n",
       "      <th>player_1_name</th>\n",
       "      <th>player_2_name</th>\n",
       "      <th>player_1_rank</th>\n",
       "      <th>player_2_rank</th>\n",
       "      <th>player_1_rank_points</th>\n",
       "      <th>player_2_rank_points</th>\n",
       "      <th>player_1_wins</th>\n",
       "      <th>round_ER</th>\n",
       "      <th>round_F</th>\n",
       "      <th>round_QF</th>\n",
       "      <th>round_R128</th>\n",
       "      <th>round_R16</th>\n",
       "      <th>round_R32</th>\n",
       "      <th>round_R64</th>\n",
       "      <th>round_RR</th>\n",
       "      <th>round_SF</th>\n",
       "      <th>player_1_hand_R</th>\n",
       "      <th>player_1_hand_L</th>\n",
       "      <th>tourney_level_A</th>\n",
       "      <th>tourney_level_D</th>\n",
       "      <th>tourney_level_F</th>\n",
       "      <th>tourney_level_G</th>\n",
       "      <th>tourney_level_M</th>\n",
       "      <th>surface_Carpet</th>\n",
       "      <th>surface_Clay</th>\n",
       "      <th>surface_Grass</th>\n",
       "      <th>surface_Hard</th>\n",
       "      <th>winner_rank</th>\n",
       "      <th>loser_rank</th>\n",
       "      <th>ht_diff</th>\n",
       "      <th>age_diff</th>\n",
       "      <th>rank_diff</th>\n",
       "      <th>rank_points_diff</th>\n",
       "      <th>no_upset</th>\n",
       "      <th>year</th>\n",
       "    </tr>\n",
       "    <tr>\n",
       "      <th>tourney_date</th>\n",
       "      <th></th>\n",
       "      <th></th>\n",
       "      <th></th>\n",
       "      <th></th>\n",
       "      <th></th>\n",
       "      <th></th>\n",
       "      <th></th>\n",
       "      <th></th>\n",
       "      <th></th>\n",
       "      <th></th>\n",
       "      <th></th>\n",
       "      <th></th>\n",
       "      <th></th>\n",
       "      <th></th>\n",
       "      <th></th>\n",
       "      <th></th>\n",
       "      <th></th>\n",
       "      <th></th>\n",
       "      <th></th>\n",
       "      <th></th>\n",
       "      <th></th>\n",
       "      <th></th>\n",
       "      <th></th>\n",
       "      <th></th>\n",
       "      <th></th>\n",
       "      <th></th>\n",
       "      <th></th>\n",
       "      <th></th>\n",
       "      <th></th>\n",
       "      <th></th>\n",
       "      <th></th>\n",
       "      <th></th>\n",
       "      <th></th>\n",
       "      <th></th>\n",
       "      <th></th>\n",
       "      <th></th>\n",
       "      <th></th>\n",
       "      <th></th>\n",
       "      <th></th>\n",
       "      <th></th>\n",
       "      <th></th>\n",
       "      <th></th>\n",
       "      <th></th>\n",
       "      <th></th>\n",
       "      <th></th>\n",
       "      <th></th>\n",
       "      <th></th>\n",
       "      <th></th>\n",
       "      <th></th>\n",
       "      <th></th>\n",
       "      <th></th>\n",
       "    </tr>\n",
       "  </thead>\n",
       "  <tbody>\n",
       "    <tr>\n",
       "      <th>2003-05-26</th>\n",
       "      <td>2003-520</td>\n",
       "      <td>128</td>\n",
       "      <td>Andre Agassi</td>\n",
       "      <td>Clay</td>\n",
       "      <td>G</td>\n",
       "      <td>5</td>\n",
       "      <td>Andre Agassi</td>\n",
       "      <td>Karol Beck</td>\n",
       "      <td>33.073238</td>\n",
       "      <td>21.144422</td>\n",
       "      <td>R</td>\n",
       "      <td>R</td>\n",
       "      <td>180.0</td>\n",
       "      <td>180.0</td>\n",
       "      <td>USA</td>\n",
       "      <td>SVK</td>\n",
       "      <td>Andre Agassi</td>\n",
       "      <td>Karol Beck</td>\n",
       "      <td>2.0</td>\n",
       "      <td>73.0</td>\n",
       "      <td>3900.0</td>\n",
       "      <td>575.0</td>\n",
       "      <td>True</td>\n",
       "      <td>0</td>\n",
       "      <td>0</td>\n",
       "      <td>0</td>\n",
       "      <td>1</td>\n",
       "      <td>0</td>\n",
       "      <td>0</td>\n",
       "      <td>0</td>\n",
       "      <td>0</td>\n",
       "      <td>0</td>\n",
       "      <td>1</td>\n",
       "      <td>0</td>\n",
       "      <td>0</td>\n",
       "      <td>0</td>\n",
       "      <td>0</td>\n",
       "      <td>1</td>\n",
       "      <td>0</td>\n",
       "      <td>0</td>\n",
       "      <td>1</td>\n",
       "      <td>0</td>\n",
       "      <td>0</td>\n",
       "      <td>2.0</td>\n",
       "      <td>73.0</td>\n",
       "      <td>0.0</td>\n",
       "      <td>11.928816</td>\n",
       "      <td>-71.0</td>\n",
       "      <td>3325.0</td>\n",
       "      <td>True</td>\n",
       "      <td>2003</td>\n",
       "    </tr>\n",
       "  </tbody>\n",
       "</table>\n",
       "</div>"
      ],
      "text/plain": [
       "             tourney_id  draw_size        winner surface tourney_level  \\\n",
       "tourney_date                                                             \n",
       "2003-05-26     2003-520        128  Andre Agassi    Clay             G   \n",
       "\n",
       "              best_of      player_1    player_2  player_1_age  player_2_age  \\\n",
       "tourney_date                                                                  \n",
       "2003-05-26          5  Andre Agassi  Karol Beck     33.073238     21.144422   \n",
       "\n",
       "             player_1_hand player_2_hand  player_1_ht  player_2_ht  \\\n",
       "tourney_date                                                         \n",
       "2003-05-26               R             R        180.0        180.0   \n",
       "\n",
       "             player_1_ioc player_2_ioc player_1_name player_2_name  \\\n",
       "tourney_date                                                         \n",
       "2003-05-26            USA          SVK  Andre Agassi    Karol Beck   \n",
       "\n",
       "              player_1_rank  player_2_rank  player_1_rank_points  \\\n",
       "tourney_date                                                       \n",
       "2003-05-26              2.0           73.0                3900.0   \n",
       "\n",
       "              player_2_rank_points  player_1_wins  round_ER  round_F  \\\n",
       "tourney_date                                                           \n",
       "2003-05-26                   575.0           True         0        0   \n",
       "\n",
       "              round_QF  round_R128  round_R16  round_R32  round_R64  round_RR  \\\n",
       "tourney_date                                                                    \n",
       "2003-05-26           0           1          0          0          0         0   \n",
       "\n",
       "              round_SF  player_1_hand_R  player_1_hand_L  tourney_level_A  \\\n",
       "tourney_date                                                                \n",
       "2003-05-26           0                1                0                0   \n",
       "\n",
       "              tourney_level_D  tourney_level_F  tourney_level_G  \\\n",
       "tourney_date                                                      \n",
       "2003-05-26                  0                0                1   \n",
       "\n",
       "              tourney_level_M  surface_Carpet  surface_Clay  surface_Grass  \\\n",
       "tourney_date                                                                 \n",
       "2003-05-26                  0               0             1              0   \n",
       "\n",
       "              surface_Hard  winner_rank  loser_rank  ht_diff   age_diff  \\\n",
       "tourney_date                                                              \n",
       "2003-05-26               0          2.0        73.0      0.0  11.928816   \n",
       "\n",
       "              rank_diff  rank_points_diff  no_upset  year  \n",
       "tourney_date                                               \n",
       "2003-05-26        -71.0            3325.0      True  2003  "
      ]
     },
     "execution_count": 16,
     "metadata": {},
     "output_type": "execute_result"
    }
   ],
   "source": [
    "# confirm wins df\n",
    "player_1_w.head(1)"
   ]
  },
  {
   "cell_type": "code",
   "execution_count": 17,
   "id": "67174757",
   "metadata": {},
   "outputs": [
    {
     "data": {
      "text/html": [
       "<div>\n",
       "<style scoped>\n",
       "    .dataframe tbody tr th:only-of-type {\n",
       "        vertical-align: middle;\n",
       "    }\n",
       "\n",
       "    .dataframe tbody tr th {\n",
       "        vertical-align: top;\n",
       "    }\n",
       "\n",
       "    .dataframe thead th {\n",
       "        text-align: right;\n",
       "    }\n",
       "</style>\n",
       "<table border=\"1\" class=\"dataframe\">\n",
       "  <thead>\n",
       "    <tr style=\"text-align: right;\">\n",
       "      <th></th>\n",
       "      <th>tourney_id</th>\n",
       "      <th>draw_size</th>\n",
       "      <th>winner</th>\n",
       "      <th>surface</th>\n",
       "      <th>tourney_level</th>\n",
       "      <th>best_of</th>\n",
       "      <th>player_1</th>\n",
       "      <th>player_2</th>\n",
       "      <th>player_1_age</th>\n",
       "      <th>player_2_age</th>\n",
       "      <th>player_1_hand</th>\n",
       "      <th>player_2_hand</th>\n",
       "      <th>player_1_ht</th>\n",
       "      <th>player_2_ht</th>\n",
       "      <th>player_1_ioc</th>\n",
       "      <th>player_2_ioc</th>\n",
       "      <th>player_1_name</th>\n",
       "      <th>player_2_name</th>\n",
       "      <th>player_1_rank</th>\n",
       "      <th>player_2_rank</th>\n",
       "      <th>player_1_rank_points</th>\n",
       "      <th>player_2_rank_points</th>\n",
       "      <th>player_1_wins</th>\n",
       "      <th>round_ER</th>\n",
       "      <th>round_F</th>\n",
       "      <th>round_QF</th>\n",
       "      <th>round_R128</th>\n",
       "      <th>round_R16</th>\n",
       "      <th>round_R32</th>\n",
       "      <th>round_R64</th>\n",
       "      <th>round_RR</th>\n",
       "      <th>round_SF</th>\n",
       "      <th>player_1_hand_R</th>\n",
       "      <th>player_1_hand_L</th>\n",
       "      <th>tourney_level_A</th>\n",
       "      <th>tourney_level_D</th>\n",
       "      <th>tourney_level_F</th>\n",
       "      <th>tourney_level_G</th>\n",
       "      <th>tourney_level_M</th>\n",
       "      <th>surface_Carpet</th>\n",
       "      <th>surface_Clay</th>\n",
       "      <th>surface_Grass</th>\n",
       "      <th>surface_Hard</th>\n",
       "      <th>winner_rank</th>\n",
       "      <th>loser_rank</th>\n",
       "      <th>ht_diff</th>\n",
       "      <th>age_diff</th>\n",
       "      <th>rank_diff</th>\n",
       "      <th>rank_points_diff</th>\n",
       "      <th>no_upset</th>\n",
       "      <th>year</th>\n",
       "    </tr>\n",
       "    <tr>\n",
       "      <th>tourney_date</th>\n",
       "      <th></th>\n",
       "      <th></th>\n",
       "      <th></th>\n",
       "      <th></th>\n",
       "      <th></th>\n",
       "      <th></th>\n",
       "      <th></th>\n",
       "      <th></th>\n",
       "      <th></th>\n",
       "      <th></th>\n",
       "      <th></th>\n",
       "      <th></th>\n",
       "      <th></th>\n",
       "      <th></th>\n",
       "      <th></th>\n",
       "      <th></th>\n",
       "      <th></th>\n",
       "      <th></th>\n",
       "      <th></th>\n",
       "      <th></th>\n",
       "      <th></th>\n",
       "      <th></th>\n",
       "      <th></th>\n",
       "      <th></th>\n",
       "      <th></th>\n",
       "      <th></th>\n",
       "      <th></th>\n",
       "      <th></th>\n",
       "      <th></th>\n",
       "      <th></th>\n",
       "      <th></th>\n",
       "      <th></th>\n",
       "      <th></th>\n",
       "      <th></th>\n",
       "      <th></th>\n",
       "      <th></th>\n",
       "      <th></th>\n",
       "      <th></th>\n",
       "      <th></th>\n",
       "      <th></th>\n",
       "      <th></th>\n",
       "      <th></th>\n",
       "      <th></th>\n",
       "      <th></th>\n",
       "      <th></th>\n",
       "      <th></th>\n",
       "      <th></th>\n",
       "      <th></th>\n",
       "      <th></th>\n",
       "      <th></th>\n",
       "      <th></th>\n",
       "    </tr>\n",
       "  </thead>\n",
       "  <tbody>\n",
       "    <tr>\n",
       "      <th>2004-09-13</th>\n",
       "      <td>2004-773</td>\n",
       "      <td>32</td>\n",
       "      <td>Igor Andreev</td>\n",
       "      <td>Clay</td>\n",
       "      <td>A</td>\n",
       "      <td>3</td>\n",
       "      <td>Florian Mayer</td>\n",
       "      <td>Igor Andreev</td>\n",
       "      <td>20.941821</td>\n",
       "      <td>21.169062</td>\n",
       "      <td>R</td>\n",
       "      <td>R</td>\n",
       "      <td>190.0</td>\n",
       "      <td>185.0</td>\n",
       "      <td>GER</td>\n",
       "      <td>RUS</td>\n",
       "      <td>Florian Mayer</td>\n",
       "      <td>Igor Andreev</td>\n",
       "      <td>36.0</td>\n",
       "      <td>49.0</td>\n",
       "      <td>879.0</td>\n",
       "      <td>727.0</td>\n",
       "      <td>False</td>\n",
       "      <td>0</td>\n",
       "      <td>0</td>\n",
       "      <td>0</td>\n",
       "      <td>0</td>\n",
       "      <td>0</td>\n",
       "      <td>0</td>\n",
       "      <td>0</td>\n",
       "      <td>0</td>\n",
       "      <td>1</td>\n",
       "      <td>1</td>\n",
       "      <td>0</td>\n",
       "      <td>1</td>\n",
       "      <td>0</td>\n",
       "      <td>0</td>\n",
       "      <td>0</td>\n",
       "      <td>0</td>\n",
       "      <td>0</td>\n",
       "      <td>1</td>\n",
       "      <td>0</td>\n",
       "      <td>0</td>\n",
       "      <td>49.0</td>\n",
       "      <td>36.0</td>\n",
       "      <td>5.0</td>\n",
       "      <td>-0.227242</td>\n",
       "      <td>-13.0</td>\n",
       "      <td>152.0</td>\n",
       "      <td>False</td>\n",
       "      <td>2004</td>\n",
       "    </tr>\n",
       "  </tbody>\n",
       "</table>\n",
       "</div>"
      ],
      "text/plain": [
       "             tourney_id  draw_size        winner surface tourney_level  \\\n",
       "tourney_date                                                             \n",
       "2004-09-13     2004-773         32  Igor Andreev    Clay             A   \n",
       "\n",
       "              best_of       player_1      player_2  player_1_age  \\\n",
       "tourney_date                                                       \n",
       "2004-09-13          3  Florian Mayer  Igor Andreev     20.941821   \n",
       "\n",
       "              player_2_age player_1_hand player_2_hand  player_1_ht  \\\n",
       "tourney_date                                                          \n",
       "2004-09-13       21.169062             R             R        190.0   \n",
       "\n",
       "              player_2_ht player_1_ioc player_2_ioc  player_1_name  \\\n",
       "tourney_date                                                         \n",
       "2004-09-13          185.0          GER          RUS  Florian Mayer   \n",
       "\n",
       "             player_2_name  player_1_rank  player_2_rank  \\\n",
       "tourney_date                                               \n",
       "2004-09-13    Igor Andreev           36.0           49.0   \n",
       "\n",
       "              player_1_rank_points  player_2_rank_points  player_1_wins  \\\n",
       "tourney_date                                                              \n",
       "2004-09-13                   879.0                 727.0          False   \n",
       "\n",
       "              round_ER  round_F  round_QF  round_R128  round_R16  round_R32  \\\n",
       "tourney_date                                                                  \n",
       "2004-09-13           0        0         0           0          0          0   \n",
       "\n",
       "              round_R64  round_RR  round_SF  player_1_hand_R  player_1_hand_L  \\\n",
       "tourney_date                                                                    \n",
       "2004-09-13            0         0         1                1                0   \n",
       "\n",
       "              tourney_level_A  tourney_level_D  tourney_level_F  \\\n",
       "tourney_date                                                      \n",
       "2004-09-13                  1                0                0   \n",
       "\n",
       "              tourney_level_G  tourney_level_M  surface_Carpet  surface_Clay  \\\n",
       "tourney_date                                                                   \n",
       "2004-09-13                  0                0               0             1   \n",
       "\n",
       "              surface_Grass  surface_Hard  winner_rank  loser_rank  ht_diff  \\\n",
       "tourney_date                                                                  \n",
       "2004-09-13                0             0         49.0        36.0      5.0   \n",
       "\n",
       "              age_diff  rank_diff  rank_points_diff  no_upset  year  \n",
       "tourney_date                                                         \n",
       "2004-09-13   -0.227242      -13.0             152.0     False  2004  "
      ]
     },
     "execution_count": 17,
     "metadata": {},
     "output_type": "execute_result"
    }
   ],
   "source": [
    "# confirm losses df\n",
    "player_1_l.head(1)"
   ]
  },
  {
   "cell_type": "markdown",
   "id": "77b7ee3f",
   "metadata": {},
   "source": [
    "#### Does player_1_rank_points impact player_1_wins? "
   ]
  },
  {
   "cell_type": "markdown",
   "id": "12da3a63",
   "metadata": {},
   "source": [
    "I will check to see if the average ranking points when player 1 wins is not the same as when player 1 loses."
   ]
  },
  {
   "cell_type": "code",
   "execution_count": 18,
   "id": "eca1463e",
   "metadata": {
    "scrolled": true
   },
   "outputs": [
    {
     "name": "stdout",
     "output_type": "stream",
     "text": [
      "Average rank points, all matches: 1325.310136685623\n",
      "Average rank points, player 1 wins: 1619.625488582596\n",
      "Average rank points, player 1 loses: 1048.1565284773344\n",
      "\n",
      "\n"
     ]
    }
   ],
   "source": [
    "# Rank points\n",
    "print('Average rank points, all matches: ' + str(train['player_1_rank_points'].mean()))\n",
    "print('Average rank points, player 1 wins: ' + str(player_1_w['player_1_rank_points'].mean()))\n",
    "print('Average rank points, player 1 loses: ' + str(player_1_l['player_1_rank_points'].mean()))\n",
    "print('\\n')"
   ]
  },
  {
   "cell_type": "markdown",
   "id": "9d94c5d0",
   "metadata": {},
   "source": [
    "It does look like there's a significant difference in the average rank points amongst wins and losses.\n",
    "\n",
    "I will confirm that with stats and a visual: "
   ]
  },
  {
   "cell_type": "code",
   "execution_count": 42,
   "id": "a4ab1f86",
   "metadata": {},
   "outputs": [],
   "source": [
    "# We want to be sure that the effect we see isn't explained by chance, so I will use a confidance interval of 95%\n",
    "# The resulting alpha is .05.\n",
    "null_hypothesis = \"The average ranking points when player 1 wins is the same as when player 1 loses.\"\n",
    "alternative_hypothesis = \"The average ranking points when player 1 wins is not the same as when player 1 loses.\" \n",
    "alpha = 0.01"
   ]
  },
  {
   "cell_type": "code",
   "execution_count": 26,
   "id": "842c5387",
   "metadata": {},
   "outputs": [
    {
     "name": "stdout",
     "output_type": "stream",
     "text": [
      "t = -375376.000\n",
      "p = 0.000\n"
     ]
    }
   ],
   "source": [
    "get_ttest_rank_points(train)"
   ]
  },
  {
   "cell_type": "code",
   "execution_count": 28,
   "id": "a2195cb0",
   "metadata": {},
   "outputs": [
    {
     "name": "stdout",
     "output_type": "stream",
     "text": [
      "We reject the null hypothesis that The average ranking points when player 1 wins is the same as when player 1 loses.\n",
      "We move forward with the alternative hypothesis that The average ranking points when player 1 wins is not the same as when player 1 loses.\n"
     ]
    }
   ],
   "source": [
    "p = 0.000\n",
    "if p < alpha:\n",
    "    print(\"We reject the null hypothesis that\", null_hypothesis)\n",
    "    print(\"We move forward with the alternative hypothesis that\", alternative_hypothesis)\n",
    "else:\n",
    "    print(\"We fail to reject the null\")\n",
    "    print(\"Our evidence does not support the claim that the average ranking points when player 1 wins is not the same as when player 1 loses\")\n"
   ]
  },
  {
   "cell_type": "code",
   "execution_count": 29,
   "id": "a99ce1b3",
   "metadata": {},
   "outputs": [
    {
     "data": {
      "image/png": "[encoded data removed]",
      "text/plain": [
       "<Figure size 432x288 with 2 Axes>"
      ]
     },
     "metadata": {
      "needs_background": "light"
     },
     "output_type": "display_data"
    }
   ],
   "source": [
    "get_winning_player_rank_points(train)"
   ]
  },
  {
   "cell_type": "markdown",
   "id": "9cc947fe",
   "metadata": {},
   "source": [
    "##### Does player_1_hand_R impact player_1_wins?"
   ]
  },
  {
   "cell_type": "markdown",
   "id": "b595edee",
   "metadata": {},
   "source": [
    "I will check to see if there is a dependence between right hand used and player 1 winning using stats: "
   ]
  },
  {
   "cell_type": "code",
   "execution_count": 37,
   "id": "368e4dbf",
   "metadata": {},
   "outputs": [],
   "source": [
    "# We want to be sure that the effect we see isn't explained by chance, so I will use a confidance interval of 95%\n",
    "# The resulting alpha is .05.\n",
    "null_hypothesis = \"There is no dependence between right hand used and player 1 winning\"\n",
    "alternative_hypothesis = \"There is a dependence between right hand used and player 1 winning\"\n",
    "alpha = 0.05"
   ]
  },
  {
   "cell_type": "code",
   "execution_count": 30,
   "id": "b6c0536b",
   "metadata": {},
   "outputs": [
    {
     "name": "stdout",
     "output_type": "stream",
     "text": [
      "chi^2 = 7.7200\n",
      "p = 0.0055\n"
     ]
    }
   ],
   "source": [
    "get_chi_right_hand(train)"
   ]
  },
  {
   "cell_type": "code",
   "execution_count": 36,
   "id": "03d42b59",
   "metadata": {},
   "outputs": [
    {
     "name": "stdout",
     "output_type": "stream",
     "text": [
      "We reject the null that There is no dependence between right hand used and player 1 winning\n",
      "We move forward with the alternative hypothesis that There is a dependence between right hand used and player 1 winning\n"
     ]
    }
   ],
   "source": [
    "p = 0.0055\n",
    "if p < alpha:\n",
    "    print(\"We reject the null that\", null_hypothesis)\n",
    "    print(\"We move forward with the alternative hypothesis that\", alternative_hypothesis)\n",
    "else:\n",
    "    print(\"We fail to reject the null\")\n",
    "    print(\"Evidence does not support\", alternative_hypothesis)"
   ]
  },
  {
   "cell_type": "markdown",
   "id": "4da3faeb",
   "metadata": {},
   "source": [
    "##### Does player_1_hand_L impact player_1_wins?"
   ]
  },
  {
   "cell_type": "markdown",
   "id": "807b1f47",
   "metadata": {},
   "source": [
    "I will check to see if There is a dependence between left hand used and player 1 winning using stats:"
   ]
  },
  {
   "cell_type": "code",
   "execution_count": 39,
   "id": "dff68643",
   "metadata": {},
   "outputs": [],
   "source": [
    "# We want to be sure that the effect we see isn't explained by chance, so I will use a confidance interval of 95%\n",
    "# The resulting alpha is .05.\n",
    "null_hypothesis = \"There is no dependence between left hand used and player 1 winning\"\n",
    "alternative_hypothesis = \"There is a dependence between left hand used and player 1 winning\"\n",
    "alpha = 0.05"
   ]
  },
  {
   "cell_type": "code",
   "execution_count": 31,
   "id": "12a2e98f",
   "metadata": {},
   "outputs": [
    {
     "name": "stdout",
     "output_type": "stream",
     "text": [
      "chi^2 = 7.7200\n",
      "p = 0.0055\n"
     ]
    }
   ],
   "source": [
    "get_chi_left_hand(train)"
   ]
  },
  {
   "cell_type": "code",
   "execution_count": 40,
   "id": "156cbfca",
   "metadata": {},
   "outputs": [
    {
     "name": "stdout",
     "output_type": "stream",
     "text": [
      "We reject the null that There is no dependence between left hand used and player 1 winning\n",
      "We move forward with the alternative hypothesis that There is a dependence between left hand used and player 1 winning\n"
     ]
    }
   ],
   "source": [
    "p = 0.0055\n",
    "if p < alpha:\n",
    "    print(\"We reject the null that\", null_hypothesis)\n",
    "    print(\"We move forward with the alternative hypothesis that\", alternative_hypothesis)\n",
    "else:\n",
    "    print(\"We fail to reject the null\")\n",
    "    print(\"Evidence does not support\", alternative_hypothesis)"
   ]
  },
  {
   "cell_type": "markdown",
   "id": "fcbe5afb",
   "metadata": {},
   "source": [
    "##### Does surface_clay impact player_1_wins?"
   ]
  },
  {
   "cell_type": "markdown",
   "id": "8ffb3bfa",
   "metadata": {},
   "source": [
    "I will check to see if there is a dependence between clay surface used and player 1 winning using stats and a visual."
   ]
  },
  {
   "cell_type": "code",
   "execution_count": 43,
   "id": "7fc49c5e",
   "metadata": {},
   "outputs": [],
   "source": [
    "# We want to be sure that the effect we see isn't explained by chance, so I will use a confidance interval of 95%\n",
    "# The resulting alpha is .05.\n",
    "null_hypothesis = \"There is no dependence between clay surface and player 1 winning\"\n",
    "alternative_hypothesis = \"There is a dependence between clay surface used and player 1 winning\"\n",
    "alpha = 0.05"
   ]
  },
  {
   "cell_type": "code",
   "execution_count": 44,
   "id": "42dc23eb",
   "metadata": {},
   "outputs": [
    {
     "name": "stdout",
     "output_type": "stream",
     "text": [
      "chi^2 = 8.7153\n",
      "p = 0.0032\n"
     ]
    }
   ],
   "source": [
    "get_chi_clay(train)"
   ]
  },
  {
   "cell_type": "code",
   "execution_count": 45,
   "id": "f0c9d17d",
   "metadata": {},
   "outputs": [
    {
     "name": "stdout",
     "output_type": "stream",
     "text": [
      "We reject the null that There is no dependence between clay surface and player 1 winning\n",
      "We move forward with the alternative hypothesis that There is a dependence between clay surface used and player 1 winning\n"
     ]
    }
   ],
   "source": [
    "p = 0.0032\n",
    "if p < alpha:\n",
    "    print(\"We reject the null that\", null_hypothesis)\n",
    "    print(\"We move forward with the alternative hypothesis that\", alternative_hypothesis)\n",
    "else:\n",
    "    print(\"We fail to reject the null\")\n",
    "    print(\"Evidence does not support\", alternative_hypothesis)"
   ]
  },
  {
   "cell_type": "code",
   "execution_count": 32,
   "id": "a8c65e75",
   "metadata": {},
   "outputs": [
    {
     "data": {
      "image/png": "[encoded data removed]",
      "text/plain": [
       "<Figure size 720x576 with 4 Axes>"
      ]
     },
     "metadata": {},
     "output_type": "display_data"
    }
   ],
   "source": [
    "get_pie_surface(train)"
   ]
  },
  {
   "cell_type": "markdown",
   "id": "f5be00c9",
   "metadata": {},
   "source": [
    "### Federer vs the World."
   ]
  },
  {
   "cell_type": "markdown",
   "id": "54f1469d",
   "metadata": {},
   "source": [
    "Whatever drives winning, no one can deny that Roger Federer has it in spades (or maybe in rackets). Over the years many have tried to dethrown the man many consider to be the best that ever played the game. Here is a look at Federer compared to some of his top rivals over the past 20 years. "
   ]
  },
  {
   "cell_type": "markdown",
   "id": "9402904b",
   "metadata": {},
   "source": [
    "### Explore Summary: "
   ]
  },
  {
   "cell_type": "markdown",
   "id": "192cf283",
   "metadata": {},
   "source": [
    "### Features to Move Forward with to Modeling: "
   ]
  },
  {
   "cell_type": "markdown",
   "id": "42ec5fc0",
   "metadata": {},
   "source": [
    "Features to move forward with: player_1_rank_points, player_1_hand_R, player_1_hand_L, surface_Clay."
   ]
  },
  {
   "cell_type": "markdown",
   "id": "c0579829",
   "metadata": {},
   "source": [
    "## Modeling"
   ]
  },
  {
   "cell_type": "markdown",
   "id": "983d26af",
   "metadata": {},
   "source": [
    "Before modeling, there a little bit of preparing that needs to happen. For model_prep function see model.py. "
   ]
  },
  {
   "cell_type": "code",
   "execution_count": 54,
   "id": "27f86977",
   "metadata": {},
   "outputs": [],
   "source": [
    "def model_prep(train,validate,test):\n",
    "    '''This function: \n",
    "    prepares the data for modeling'''\n",
    "\n",
    "    # drop unused columns \n",
    "    drop_cols = ['tourney_id', 'draw_size', 'tourney_level', 'best_of', 'player_1', 'player_2',\n",
    "       'player_1_age', 'player_2_age', 'player_1_hand', 'player_2_hand', 'surface',\n",
    "       'player_1_ht', 'player_2_ht', 'player_1_ioc', 'player_2_ioc',\n",
    "       'player_1_name', 'player_2_name', 'player_1_rank', 'player_2_rank',\n",
    "       'player_2_rank_points',\n",
    "       'round_ER', 'round_F', 'round_QF', 'round_R128', 'round_R16',\n",
    "       'round_R32', 'round_R64', 'round_RR', 'round_SF', 'tourney_level_A', 'tourney_level_D',\n",
    "       'tourney_level_F', 'tourney_level_G', 'tourney_level_M',\n",
    "       'surface_Carpet', 'surface_Grass', 'surface_Hard',\n",
    "       'ht_diff', 'age_diff', 'rank_diff', 'rank_points_diff', 'winner_rank', 'loser_rank', 'winner', 'no_upset', 'year']\n",
    "\n",
    "    train = train.drop(columns=drop_cols)\n",
    "    validate = validate.drop(columns=drop_cols)\n",
    "    test = test.drop(columns=drop_cols)\n",
    "    \n",
    "    # Split data into predicting variables (X) and target variable (y) and reset the index for each dataframe\n",
    "    X_train = train.drop(columns='player_1_wins').reset_index(drop=True)\n",
    "    y_train = train[['player_1_wins']].reset_index(drop=True)\n",
    "\n",
    "    X_validate = validate.drop(columns='player_1_wins').reset_index(drop=True)\n",
    "    y_validate = validate[['player_1_wins']].reset_index(drop=True)\n",
    "\n",
    "    X_test = test.drop(columns='player_1_wins').reset_index(drop=True)\n",
    "    y_test = test[['player_1_wins']].reset_index(drop=True)\n",
    "    \n",
    "    return X_train, X_validate, X_test, y_train, y_validate, y_test\n"
   ]
  },
  {
   "cell_type": "code",
   "execution_count": 55,
   "id": "a05cdafa",
   "metadata": {},
   "outputs": [],
   "source": [
    "X_train, X_validate, X_test, y_train, y_validate, y_test = model_prep(train,validate,test)"
   ]
  },
  {
   "cell_type": "code",
   "execution_count": 56,
   "id": "ad5643fe",
   "metadata": {},
   "outputs": [
    {
     "data": {
      "text/html": [
       "<div>\n",
       "<style scoped>\n",
       "    .dataframe tbody tr th:only-of-type {\n",
       "        vertical-align: middle;\n",
       "    }\n",
       "\n",
       "    .dataframe tbody tr th {\n",
       "        vertical-align: top;\n",
       "    }\n",
       "\n",
       "    .dataframe thead th {\n",
       "        text-align: right;\n",
       "    }\n",
       "</style>\n",
       "<table border=\"1\" class=\"dataframe\">\n",
       "  <thead>\n",
       "    <tr style=\"text-align: right;\">\n",
       "      <th></th>\n",
       "      <th>player_1_rank_points</th>\n",
       "      <th>player_1_hand_R</th>\n",
       "      <th>player_1_hand_L</th>\n",
       "      <th>surface_Clay</th>\n",
       "    </tr>\n",
       "  </thead>\n",
       "  <tbody>\n",
       "    <tr>\n",
       "      <th>0</th>\n",
       "      <td>3900.0</td>\n",
       "      <td>1</td>\n",
       "      <td>0</td>\n",
       "      <td>1</td>\n",
       "    </tr>\n",
       "  </tbody>\n",
       "</table>\n",
       "</div>"
      ],
      "text/plain": [
       "   player_1_rank_points  player_1_hand_R  player_1_hand_L  surface_Clay\n",
       "0                3900.0                1                0             1"
      ]
     },
     "execution_count": 56,
     "metadata": {},
     "output_type": "execute_result"
    }
   ],
   "source": [
    "X_train.head(1)"
   ]
  },
  {
   "cell_type": "code",
   "execution_count": 74,
   "id": "3e8fbec6",
   "metadata": {},
   "outputs": [
    {
     "data": {
      "text/plain": [
       "player_1_rank_points    7\n",
       "player_1_hand_R         0\n",
       "player_1_hand_L         0\n",
       "surface_Clay            0\n",
       "dtype: int64"
      ]
     },
     "execution_count": 74,
     "metadata": {},
     "output_type": "execute_result"
    }
   ],
   "source": [
    "X_train.isnull().sum()"
   ]
  },
  {
   "cell_type": "markdown",
   "id": "c2e62fda",
   "metadata": {},
   "source": [
    "### Baseline"
   ]
  },
  {
   "cell_type": "markdown",
   "id": "6023c4f1",
   "metadata": {},
   "source": [
    "Creating a baseline to compare the final model preformance to is the last step before modeling. "
   ]
  },
  {
   "cell_type": "markdown",
   "id": "678538b6",
   "metadata": {},
   "source": [
    "The baseline that will be used here is the chance that the highest ranked player will win without an upset."
   ]
  },
  {
   "cell_type": "code",
   "execution_count": 67,
   "id": "bb6929d7",
   "metadata": {},
   "outputs": [
    {
     "data": {
      "text/plain": [
       "tourney_date\n",
       "2003-05-26    True\n",
       "Name: no_upset, dtype: bool"
      ]
     },
     "execution_count": 67,
     "metadata": {},
     "output_type": "execute_result"
    }
   ],
   "source": [
    "# look at the uno_pset column\n",
    "train.no_upset.head(1)"
   ]
  },
  {
   "cell_type": "code",
   "execution_count": 68,
   "id": "c2da58bd",
   "metadata": {},
   "outputs": [
    {
     "data": {
      "text/plain": [
       "True     0.637261\n",
       "False    0.362739\n",
       "Name: no_upset, dtype: float64"
      ]
     },
     "execution_count": 68,
     "metadata": {},
     "output_type": "execute_result"
    }
   ],
   "source": [
    "# find the value counts for no_upset\n",
    "train.no_upset.value_counts(normalize=True)"
   ]
  },
  {
   "cell_type": "code",
   "execution_count": 69,
   "id": "af1a64b8",
   "metadata": {},
   "outputs": [
    {
     "data": {
      "text/plain": [
       "0    True\n",
       "dtype: bool"
      ]
     },
     "execution_count": 69,
     "metadata": {},
     "output_type": "execute_result"
    }
   ],
   "source": [
    "# find the most frequently occurring value in no_upset\n",
    "baseline = train.no_upset.mode()\n",
    "baseline"
   ]
  },
  {
   "cell_type": "code",
   "execution_count": 70,
   "id": "9f6aa18b",
   "metadata": {},
   "outputs": [
    {
     "data": {
      "text/plain": [
       "0.637261257667182"
      ]
     },
     "execution_count": 70,
     "metadata": {},
     "output_type": "execute_result"
    }
   ],
   "source": [
    "# set baseline and check accuracy\n",
    "match_bsl_prediction = train.no_upset == 1\n",
    "baseline_accuracy = match_bsl_prediction.mean()\n",
    "# basline accuracy = 64%%\n",
    "baseline_accuracy"
   ]
  },
  {
   "cell_type": "markdown",
   "id": "37002338",
   "metadata": {},
   "source": [
    "##### The baseline accuracy is 64%."
   ]
  },
  {
   "cell_type": "markdown",
   "id": "087a189b",
   "metadata": {},
   "source": [
    "### Decision Tree"
   ]
  },
  {
   "cell_type": "code",
   "execution_count": 72,
   "id": "36cfaefc",
   "metadata": {},
   "outputs": [],
   "source": [
    "def get_decision_tree(X_train, X_validate, y_train, y_validate):\n",
    "    '''This function: \n",
    "    returns decision tree accuracy on train and validate data'''\n",
    "\n",
    "    # create classifier object\n",
    "    clf = DecisionTreeClassifier(max_depth=3, random_state=123)\n",
    "\n",
    "    #fit model on training data\n",
    "    clf = clf.fit(X_train, y_train)\n",
    "\n",
    "    # print result\n",
    "    print(f\"Accuracy of Decision Tree on train data is {clf.score(X_train, y_train)}\")\n",
    "    print(f\"Accuracy of Decision Tree on validate data is {clf.score(X_validate, y_validate)}\")"
   ]
  },
  {
   "cell_type": "code",
   "execution_count": 73,
   "id": "e07307e6",
   "metadata": {},
   "outputs": [
    {
     "ename": "ValueError",
     "evalue": "Input contains NaN, infinity or a value too large for dtype('float32').",
     "output_type": "error",
     "traceback": [
      "\u001b[0;31m---------------------------------------------------------------------------\u001b[0m",
      "\u001b[0;31mValueError\u001b[0m                                Traceback (most recent call last)",
      "\u001b[0;32m<ipython-input-73-169bd6e7dc7c>\u001b[0m in \u001b[0;36m<module>\u001b[0;34m\u001b[0m\n\u001b[0;32m----> 1\u001b[0;31m \u001b[0mget_decision_tree\u001b[0m\u001b[0;34m(\u001b[0m\u001b[0mX_train\u001b[0m\u001b[0;34m,\u001b[0m \u001b[0mX_validate\u001b[0m\u001b[0;34m,\u001b[0m \u001b[0my_train\u001b[0m\u001b[0;34m,\u001b[0m \u001b[0my_validate\u001b[0m\u001b[0;34m)\u001b[0m\u001b[0;34m\u001b[0m\u001b[0;34m\u001b[0m\u001b[0m\n\u001b[0m",
      "\u001b[0;32m<ipython-input-72-b287f26d1171>\u001b[0m in \u001b[0;36mget_decision_tree\u001b[0;34m(X_train, X_validate, y_train, y_validate)\u001b[0m\n\u001b[1;32m      7\u001b[0m \u001b[0;34m\u001b[0m\u001b[0m\n\u001b[1;32m      8\u001b[0m     \u001b[0;31m#fit model on training data\u001b[0m\u001b[0;34m\u001b[0m\u001b[0;34m\u001b[0m\u001b[0;34m\u001b[0m\u001b[0m\n\u001b[0;32m----> 9\u001b[0;31m     \u001b[0mclf\u001b[0m \u001b[0;34m=\u001b[0m \u001b[0mclf\u001b[0m\u001b[0;34m.\u001b[0m\u001b[0mfit\u001b[0m\u001b[0;34m(\u001b[0m\u001b[0mX_train\u001b[0m\u001b[0;34m,\u001b[0m \u001b[0my_train\u001b[0m\u001b[0;34m)\u001b[0m\u001b[0;34m\u001b[0m\u001b[0;34m\u001b[0m\u001b[0m\n\u001b[0m\u001b[1;32m     10\u001b[0m \u001b[0;34m\u001b[0m\u001b[0m\n\u001b[1;32m     11\u001b[0m     \u001b[0;31m# print result\u001b[0m\u001b[0;34m\u001b[0m\u001b[0;34m\u001b[0m\u001b[0;34m\u001b[0m\u001b[0m\n",
      "\u001b[0;32m/opt/homebrew/anaconda3/lib/python3.8/site-packages/sklearn/tree/_classes.py\u001b[0m in \u001b[0;36mfit\u001b[0;34m(self, X, y, sample_weight, check_input, X_idx_sorted)\u001b[0m\n\u001b[1;32m    896\u001b[0m         \"\"\"\n\u001b[1;32m    897\u001b[0m \u001b[0;34m\u001b[0m\u001b[0m\n\u001b[0;32m--> 898\u001b[0;31m         super().fit(\n\u001b[0m\u001b[1;32m    899\u001b[0m             \u001b[0mX\u001b[0m\u001b[0;34m,\u001b[0m \u001b[0my\u001b[0m\u001b[0;34m,\u001b[0m\u001b[0;34m\u001b[0m\u001b[0;34m\u001b[0m\u001b[0m\n\u001b[1;32m    900\u001b[0m             \u001b[0msample_weight\u001b[0m\u001b[0;34m=\u001b[0m\u001b[0msample_weight\u001b[0m\u001b[0;34m,\u001b[0m\u001b[0;34m\u001b[0m\u001b[0;34m\u001b[0m\u001b[0m\n",
      "\u001b[0;32m/opt/homebrew/anaconda3/lib/python3.8/site-packages/sklearn/tree/_classes.py\u001b[0m in \u001b[0;36mfit\u001b[0;34m(self, X, y, sample_weight, check_input, X_idx_sorted)\u001b[0m\n\u001b[1;32m    154\u001b[0m             \u001b[0mcheck_X_params\u001b[0m \u001b[0;34m=\u001b[0m \u001b[0mdict\u001b[0m\u001b[0;34m(\u001b[0m\u001b[0mdtype\u001b[0m\u001b[0;34m=\u001b[0m\u001b[0mDTYPE\u001b[0m\u001b[0;34m,\u001b[0m \u001b[0maccept_sparse\u001b[0m\u001b[0;34m=\u001b[0m\u001b[0;34m\"csc\"\u001b[0m\u001b[0;34m)\u001b[0m\u001b[0;34m\u001b[0m\u001b[0;34m\u001b[0m\u001b[0m\n\u001b[1;32m    155\u001b[0m             \u001b[0mcheck_y_params\u001b[0m \u001b[0;34m=\u001b[0m \u001b[0mdict\u001b[0m\u001b[0;34m(\u001b[0m\u001b[0mensure_2d\u001b[0m\u001b[0;34m=\u001b[0m\u001b[0;32mFalse\u001b[0m\u001b[0;34m,\u001b[0m \u001b[0mdtype\u001b[0m\u001b[0;34m=\u001b[0m\u001b[0;32mNone\u001b[0m\u001b[0;34m)\u001b[0m\u001b[0;34m\u001b[0m\u001b[0;34m\u001b[0m\u001b[0m\n\u001b[0;32m--> 156\u001b[0;31m             X, y = self._validate_data(X, y,\n\u001b[0m\u001b[1;32m    157\u001b[0m                                        validate_separately=(check_X_params,\n\u001b[1;32m    158\u001b[0m                                                             check_y_params))\n",
      "\u001b[0;32m/opt/homebrew/anaconda3/lib/python3.8/site-packages/sklearn/base.py\u001b[0m in \u001b[0;36m_validate_data\u001b[0;34m(self, X, y, reset, validate_separately, **check_params)\u001b[0m\n\u001b[1;32m    428\u001b[0m                 \u001b[0;31m# :(\u001b[0m\u001b[0;34m\u001b[0m\u001b[0;34m\u001b[0m\u001b[0;34m\u001b[0m\u001b[0m\n\u001b[1;32m    429\u001b[0m                 \u001b[0mcheck_X_params\u001b[0m\u001b[0;34m,\u001b[0m \u001b[0mcheck_y_params\u001b[0m \u001b[0;34m=\u001b[0m \u001b[0mvalidate_separately\u001b[0m\u001b[0;34m\u001b[0m\u001b[0;34m\u001b[0m\u001b[0m\n\u001b[0;32m--> 430\u001b[0;31m                 \u001b[0mX\u001b[0m \u001b[0;34m=\u001b[0m \u001b[0mcheck_array\u001b[0m\u001b[0;34m(\u001b[0m\u001b[0mX\u001b[0m\u001b[0;34m,\u001b[0m \u001b[0;34m**\u001b[0m\u001b[0mcheck_X_params\u001b[0m\u001b[0;34m)\u001b[0m\u001b[0;34m\u001b[0m\u001b[0;34m\u001b[0m\u001b[0m\n\u001b[0m\u001b[1;32m    431\u001b[0m                 \u001b[0my\u001b[0m \u001b[0;34m=\u001b[0m \u001b[0mcheck_array\u001b[0m\u001b[0;34m(\u001b[0m\u001b[0my\u001b[0m\u001b[0;34m,\u001b[0m \u001b[0;34m**\u001b[0m\u001b[0mcheck_y_params\u001b[0m\u001b[0;34m)\u001b[0m\u001b[0;34m\u001b[0m\u001b[0;34m\u001b[0m\u001b[0m\n\u001b[1;32m    432\u001b[0m             \u001b[0;32melse\u001b[0m\u001b[0;34m:\u001b[0m\u001b[0;34m\u001b[0m\u001b[0;34m\u001b[0m\u001b[0m\n",
      "\u001b[0;32m/opt/homebrew/anaconda3/lib/python3.8/site-packages/sklearn/utils/validation.py\u001b[0m in \u001b[0;36minner_f\u001b[0;34m(*args, **kwargs)\u001b[0m\n\u001b[1;32m     61\u001b[0m             \u001b[0mextra_args\u001b[0m \u001b[0;34m=\u001b[0m \u001b[0mlen\u001b[0m\u001b[0;34m(\u001b[0m\u001b[0margs\u001b[0m\u001b[0;34m)\u001b[0m \u001b[0;34m-\u001b[0m \u001b[0mlen\u001b[0m\u001b[0;34m(\u001b[0m\u001b[0mall_args\u001b[0m\u001b[0;34m)\u001b[0m\u001b[0;34m\u001b[0m\u001b[0;34m\u001b[0m\u001b[0m\n\u001b[1;32m     62\u001b[0m             \u001b[0;32mif\u001b[0m \u001b[0mextra_args\u001b[0m \u001b[0;34m<=\u001b[0m \u001b[0;36m0\u001b[0m\u001b[0;34m:\u001b[0m\u001b[0;34m\u001b[0m\u001b[0;34m\u001b[0m\u001b[0m\n\u001b[0;32m---> 63\u001b[0;31m                 \u001b[0;32mreturn\u001b[0m \u001b[0mf\u001b[0m\u001b[0;34m(\u001b[0m\u001b[0;34m*\u001b[0m\u001b[0margs\u001b[0m\u001b[0;34m,\u001b[0m \u001b[0;34m**\u001b[0m\u001b[0mkwargs\u001b[0m\u001b[0;34m)\u001b[0m\u001b[0;34m\u001b[0m\u001b[0;34m\u001b[0m\u001b[0m\n\u001b[0m\u001b[1;32m     64\u001b[0m \u001b[0;34m\u001b[0m\u001b[0m\n\u001b[1;32m     65\u001b[0m             \u001b[0;31m# extra_args > 0\u001b[0m\u001b[0;34m\u001b[0m\u001b[0;34m\u001b[0m\u001b[0;34m\u001b[0m\u001b[0m\n",
      "\u001b[0;32m/opt/homebrew/anaconda3/lib/python3.8/site-packages/sklearn/utils/validation.py\u001b[0m in \u001b[0;36mcheck_array\u001b[0;34m(array, accept_sparse, accept_large_sparse, dtype, order, copy, force_all_finite, ensure_2d, allow_nd, ensure_min_samples, ensure_min_features, estimator)\u001b[0m\n\u001b[1;32m    661\u001b[0m \u001b[0;34m\u001b[0m\u001b[0m\n\u001b[1;32m    662\u001b[0m         \u001b[0;32mif\u001b[0m \u001b[0mforce_all_finite\u001b[0m\u001b[0;34m:\u001b[0m\u001b[0;34m\u001b[0m\u001b[0;34m\u001b[0m\u001b[0m\n\u001b[0;32m--> 663\u001b[0;31m             _assert_all_finite(array,\n\u001b[0m\u001b[1;32m    664\u001b[0m                                allow_nan=force_all_finite == 'allow-nan')\n\u001b[1;32m    665\u001b[0m \u001b[0;34m\u001b[0m\u001b[0m\n",
      "\u001b[0;32m/opt/homebrew/anaconda3/lib/python3.8/site-packages/sklearn/utils/validation.py\u001b[0m in \u001b[0;36m_assert_all_finite\u001b[0;34m(X, allow_nan, msg_dtype)\u001b[0m\n\u001b[1;32m    101\u001b[0m                 not allow_nan and not np.isfinite(X).all()):\n\u001b[1;32m    102\u001b[0m             \u001b[0mtype_err\u001b[0m \u001b[0;34m=\u001b[0m \u001b[0;34m'infinity'\u001b[0m \u001b[0;32mif\u001b[0m \u001b[0mallow_nan\u001b[0m \u001b[0;32melse\u001b[0m \u001b[0;34m'NaN, infinity'\u001b[0m\u001b[0;34m\u001b[0m\u001b[0;34m\u001b[0m\u001b[0m\n\u001b[0;32m--> 103\u001b[0;31m             raise ValueError(\n\u001b[0m\u001b[1;32m    104\u001b[0m                     \u001b[0mmsg_err\u001b[0m\u001b[0;34m.\u001b[0m\u001b[0mformat\u001b[0m\u001b[0;34m\u001b[0m\u001b[0;34m\u001b[0m\u001b[0m\n\u001b[1;32m    105\u001b[0m                     (type_err,\n",
      "\u001b[0;31mValueError\u001b[0m: Input contains NaN, infinity or a value too large for dtype('float32')."
     ]
    }
   ],
   "source": [
    "get_decision_tree(X_train, X_validate, y_train, y_validate)"
   ]
  },
  {
   "cell_type": "code",
   "execution_count": null,
   "id": "03955b32",
   "metadata": {},
   "outputs": [],
   "source": []
  }
 ],
 "metadata": {
  "kernelspec": {
   "display_name": "Python 3",
   "language": "python",
   "name": "python3"
  },
  "language_info": {
   "codemirror_mode": {
    "name": "ipython",
    "version": 3
   },
   "file_extension": ".py",
   "mimetype": "text/x-python",
   "name": "python",
   "nbconvert_exporter": "python",
   "pygments_lexer": "ipython3",
   "version": "3.8.8"
  }
 },
 "nbformat": 4,
 "nbformat_minor": 5
}
