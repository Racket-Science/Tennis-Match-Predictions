{
 "cells": [
  {
   "cell_type": "markdown",
   "id": "d76e1110",
   "metadata": {},
   "source": [
    "# Tennis Match Prediction\n",
    "#### By: Alejandro Velasquez, Chloe Whitaker, Daniel Northcutt, Mason Sherbondy"
   ]
  },
  {
   "cell_type": "markdown",
   "id": "d3a0d2f0",
   "metadata": {},
   "source": [
    "## Project Goals\n",
    "- Create a tennis match predictor that will determine the outcome of a match\n",
    "- Explore and compare the great rivalries of Roger Federer"
   ]
  },
  {
   "cell_type": "markdown",
   "id": "4ce6e078",
   "metadata": {},
   "source": [
    "## Executive Summary \n",
    "We discovered:\n",
    "* Rivals that won half or more meetings with Federer beat him at Grand Slam events\n",
    "* The surface of the court affects the outcome of players performance\n",
    "* Players performed differently based on the tourney level\n",
    "* Higher ranked players win more often (about 64.28% of the time)\n",
    "* Baseline beat our best model by 6% \n",
    "* Features we moved forward with: player_1_rank_points, player_1_hand_R, player_1_hand_L, surface_Clay."
   ]
  },
  {
   "cell_type": "markdown",
   "id": "008d7f65",
   "metadata": {},
   "source": [
    "## Initial Questions\n",
    "- What aspects of the game drive the performance of the players?\n",
    "- Do Federer's rivalries take a different story at Grand Slam events?\n",
    "- Do higher ranked players win more?\n",
    "- Does the court surface matter?"
   ]
  },
  {
   "cell_type": "code",
   "execution_count": 1,
   "id": "daf3f024",
   "metadata": {},
   "outputs": [],
   "source": [
    "# imports\n",
    "\n",
    "import pandas as pd\n",
    "import numpy as np\n",
    "import regex as re\n",
    "\n",
    "# Custom Helper Files\n",
    "from prepare import *\n",
    "from explore import *\n",
    "from model import *\n",
    "import explore1 as e1\n",
    "\n",
    "# Split \n",
    "from sklearn.model_selection import train_test_split\n",
    "\n",
    "# Stats\n",
    "from scipy import stats\n",
    "\n",
    "# Model\n",
    "from sklearn.tree import DecisionTreeClassifier\n",
    "from sklearn.tree import export_graphviz\n",
    "from sklearn.metrics import classification_report\n",
    "from sklearn.metrics import confusion_matrix\n",
    "from sklearn.ensemble import RandomForestClassifier\n",
    "from sklearn.neighbors import KNeighborsClassifier\n",
    "from sklearn.impute import SimpleImputer\n",
    "from sklearn.linear_model import LogisticRegression\n",
    "\n",
    "# Visualize\n",
    "import matplotlib.pyplot as plt\n",
    "import seaborn as sns\n",
    "\n",
    "# Ignore Warnings\n",
    "import warnings\n",
    "warnings.filterwarnings(\"ignore\")\n",
    "\n",
    "# Remove Limits On Viewing Dataframes\n",
    "pd.set_option('display.max_columns', None)"
   ]
  },
  {
   "cell_type": "markdown",
   "id": "299f09db",
   "metadata": {},
   "source": [
    "## Acquire:\n",
    "\n",
    "- Data was acquired from repo collecting Men's ATP tennis match data from 1968 - 2019\n",
    "- https://github.com/JeffSackmann (source)\n",
    "- Collected 180k rows of data"
   ]
  },
  {
   "cell_type": "markdown",
   "id": "bb4f477c",
   "metadata": {},
   "source": [
    "## ATPTotal Prepare:\n",
    "- Randomized winner & loser as player1 and player2 alphabetically \n",
    "- Set our target to player-1 wins (True or False) for binary classification\n",
    "- Filtered for matches that took place in the years 1999 all the way up to the end of 2019\n",
    "- Removed all walkovers, best of 1 matches\n",
    "- Removed matches where players retired way too early\n",
    "- Remove records where data was incomplete (extremely small proportion)\n",
    "- filled in player heights where null\n",
    "- Set our index to tourney date w/ format to %Y%m%d\n",
    "- Filtered out players that played less than 50 matches\n",
    "- Filled mising match time lengths with average match length time for respective tournaments\n",
    "- 36000 matches"
   ]
  },
  {
   "cell_type": "markdown",
   "id": "8b78e33d",
   "metadata": {},
   "source": [
    "## Data Dictionary\n",
    "#### DatetimeIndex: 35969 entries, 1999-01-11 to 2019-11-24\n",
    " \n",
    " |  #  | Column                            |  Non-Null Count | Dtype   | Description\n",
    " |:--- |:----------------------------------|:--------------- |:--------|:----------------------------------------------------------------------------------\n",
    " | 0   | tourney_id                        |  35969 non-null | object  | Unique identifier for the tournament that the record of match data belongs to.\n",
    " | 1   | tourney_name                      |  35969 non-null | object  | Name of the tournament the recorded match belongs to.\n",
    " | 2   | surface                           |  35969 non-null | object  | Court construction type - surface material of the court the match is played on.\n",
    " | 3   | draw_size                         |  35969 non-null | int64   | Number of players in a tournament rounded to nearest power of 2.\n",
    " | 4   | tourney_level                     |  35969 non-null | object  | Level of tournament: G = Grand Slams, M = Masters 1000, A = Other tour level events.\n",
    " | 5   | match_num                         |  35969 non-null | int64   | Match specific identifier within the tourney id.\n",
    " | 6   | score                             |  35969 non-null | object  | The final results of the match outcome.\n",
    " | 7   | best_of                           |  35969 non-null | int64   | The match format. 3 = Best of 3 sets, 5 = Best of 5 sets for the match.\n",
    " | 8   | round                             |  35969 non-null | object  | What round the match is in a tournament. RR = Round robin, ER = Early rounds.\n",
    " | 9   | minutes                           |  35543 non-null | float64 | Match length.\n",
    " | 10  | player_1                          |  35969 non-null | object  | One of the players featured in a match.\n",
    " | 11  | player_2                          |  35969 non-null | object  | The other player featured in the match.\n",
    " | 12  | player_1_age                      |  35969 non-null | float64 | Age of player 1 at the time of the match.\n",
    " | 13  | player_2_age                      |  35969 non-null | float64 | Age of player 2 at the time of the match.\n",
    " | 14  | player_1_hand                     |  35969 non-null | object  | Dominant hand for player 1.\n",
    " | 15  | player_2_hand                     |  35969 non-null | object  | Dominant hand for player 2.\n",
    " | 16  | player_1_ht                       |  35969 non-null | float64 | Height of player 1.\n",
    " | 17  | player_2_ht                       |  35969 non-null | float64 | Height of player 2.\n",
    " | 18  | player_1_id                       |  35969 non-null | int64   | Unique player identifier for player 1.\n",
    " | 19  | player_2_id                       |  35969 non-null | int64   | Unique player identifier for player 2.\n",
    " | 20  | player_1_ioc                      |  35969 non-null | object  | Country of origin for player 1.\n",
    " | 21  | player_2_ioc                      |  35969 non-null | object  | Country of origin for player 2.\n",
    " | 22  | player_1_rank                     |  35952 non-null | float64 | Player 1 rank at the start of the tournament.\n",
    " | 23  | player_2_rank                     |  35953 non-null | float64 | Player 2 rank at the start of the tournament.\n",
    " | 24  | player_1_rank_points              |  35969 non-null | float64 | Player 1 rank points at the start of the tournament.\n",
    " | 25  | player_2_rank_points              |  35969 non-null | float64 | Player 2 rank points at the start of the tournament.\n",
    " | 26  | player_1_seed                     |  13218 non-null | float64 | Player 1 seed for the tournament, if seeded.\n",
    " | 27  | player_2_seed                     |  14181 non-null | float64 | Player 2 seed for the tournament, if seeded.\n",
    " | 28  | player_1_aces                     |  35969 non-null | float64 | Number of serves from player 1 in the match completely untouched by player 2.\n",
    " | 29  | player_2_aces                     |  35969 non-null | float64 | Number of serves from player 2 in the match completely untouched by player 1.\n",
    " | 30  | player_1_double_faults            |  35969 non-null | float64 | Number of times player 1 failed to start a point by faulting twice (free p2 point).\n",
    " | 31  | player_2_double_faults            |  35969 non-null | float64 | Number of times player 2 failed to start a point by faulting twice (free p1 point).\n",
    " | 32  | player_1_service_points           |  35969 non-null | float64 | Number of points player 1 played on his serve.\n",
    " | 33  | player_2_service_points           |  35969 non-null | float64 | Number of points player 2 played on his serve.\n",
    " | 34  | player_1_first_serves_in          |  35969 non-null | float64 | Number of first serves player 1 made.\n",
    " | 35  | player_2_first_serves_in          |  35969 non-null | float64 | Number of first serves player 2 made.\n",
    " | 36  | player_1_first_serve_points_won   |  35969 non-null | float64 | Number of first serve points won by player 1.\n",
    " | 37  | player_2_first_serve_points_won   |  35969 non-null | float64 | Number of first serve points won by player 2.\n",
    " | 38  | player_1_second_serve_points_won  |  35969 non-null | float64 | Number of second serve points won by player 1.\n",
    " | 39  | player_2_second_serve_points_won  |  35969 non-null | float64 | Number of second serve points won by player 2.\n",
    " | 40  | player_1_service_game_total       |  35969 non-null | float64 | Number of games player 1 served in a match.\n",
    " | 41  | player_2_service_game_total       |  35969 non-null | float64 | Number of games player 2 served in a match.\n",
    " | 42  | player_1_break_points_saved       |  35969 non-null | float64 | Number of points player 1 won to stave off a break of serve.\n",
    " | 43  | player_2_break_points_saved       |  35969 non-null | float64 | Number of points player 2 won to stave off a break of serve.\n",
    " | 44  | player_1_break_points_faced       |  35969 non-null | float64 | Number of break points player 1 faced.\n",
    " | 45  | player_2_break_points_faced       |  35969 non-null | float64 | Number of break points player 2 faced.\n",
    " | 46  | winner                            |  35969 non-null | object  | The name of the winner.\n",
    " | 47  | player_1_first_serve_%            |  35969 non-null | float64 | Percent of first serves in for player 1.\n",
    " | 48  | player_2_first_serve_%            |  35969 non-null | float64 | Percent of first serves in for player 2.\n",
    " | 49  | player_1_first_serve_win_%        |  35969 non-null | float64 | Percent of first service points won for player 1.\n",
    " | 50  | player_2_first_serve_win_%        |  35967 non-null | float64 | Percent of first service points won for player 2.\n",
    " | 51  | player_1_break_points_won         |  35969 non-null | float64 | Number of times player 1 broke player 2's service.\n",
    " | 52  | player_2_break_points_won         |  35969 non-null | float64 | Number of times player 2 broke player 2's service.\n",
    " | 53  | player_1_wins                     |  35969 non-null | bool    | Target variable. Boolean value that designates whether or not player 1 won the match.\n",
    " | 54  | player_2_seeded                   |  35969 non-null | bool    | Boolean value that designates whether or not player 2 is seeded.\n",
    " | 55  | player_1_seeded                   |  35969 non-null | bool    | Boolean value that designates whether or not player 1 is seeded.\n",
    " | 56  | surface_Carpet                    |  35969 non-null | uint8   | Whether or not the match was played on carpet. 1 = Yes, 0 = No.\n",
    " | 57  | surface_Clay                      |  35969 non-null | uint8   | Whether or not the match was played on clay. 1 = Yes, 0 = No.\n",
    " | 58  | surface_Grass                     |  35969 non-null | uint8   | Whether or not the match was played on grass. 1 = Yes, 0 = No.\n",
    " | 59  | surface_Hard                      |  35969 non-null | uint8   | Whether or not the match was played on hard court. 1 = Yes, 0 = No.\n",
    " | 60  | tourney_level_A                   |  35969 non-null | uint8   | Whether or not the tournament was an tour level event. 1 = Yes, 0 = No.\n",
    " | 61  | tourney_level_D                   |  35969 non-null | uint8   | Whether or not the tournament was a Davis Cup event. 1 = Yes, 0 = No.\n",
    " | 62  | tourney_level_F                   |  35969 non-null | uint8   | Whether or not the tournament was a Tour Finals or season-ending event. 1 = Yes, 0 = No.\n",
    " | 63  | tourney_level_G                   |  35969 non-null | uint8   | Whether or not the tournament was a Grand Slam event. 1 = Yes, 0 = No.\n",
    " | 64  | tourney_level_M                   |  35969 non-null | uint8   | Whether or not the tournament was a Masters 1000 event. 1 = Yes, 0 = No.\n",
    " | 65  | player_1_hand_L                   |  35969 non-null | uint8   | Whether or not player 1 plays left-handed. 1 = Yes, 0 = No.\n",
    " | 66  | player_1_hand_R                   |  35969 non-null | uint8   | Whether or not player 1 plays right-handed. 1 = Yes, 0 = No.\n",
    " | 67  | player_2_hand_L                   |  35969 non-null | uint8   | Whether or not player 2 plays left-handed. 1 = Yes, 0 = No.\n",
    " | 68  | player_2_hand_R                   |  35969 non-null | uint8   | Whether or not player 2 plays right-handed. 1 = Yes, 0 = No.\n",
    " | 69  | round_ER                          |  35969 non-null | uint8   | Whether or not the match was in the early rounds. 1 = Yes, 0 = No.\n",
    " | 70  | round_F                           |  35969 non-null | uint8   | Whether or not the match was the final round. 1 = Yes, 0 = No.\n",
    " | 71  | round_QF                          |  35969 non-null | uint8   | Whether or not the match was a quarter-final. 1 = Yes, 0 = No.\n",
    " | 72  | round_R128                        |  35969 non-null | uint8   | Whether or not the match was in the round of 128 1 = Yes, 0 = No.\n",
    " | 73  | round_R16                         |  35969 non-null | uint8   | Whether or not the match was in the round of 16. 1 = Yes, 0 = No.\n",
    " | 74  | round_R32                         |  35969 non-null | uint8   | Whether or not the match was in the round of 32. 1 = Yes, 0 = No.\n",
    " | 75  | round_R64                         |  35969 non-null | uint8   | Whether or not the match was in the round of 64. 1 = Yes, 0 = No.\n",
    " | 76  | round_RR                          |  35969 non-null | uint8   | Whether or not the match was a round robin match. 1 = Yes, 0 = No.\n",
    " | 77  | round_SF                          |  35969 non-null | uint8   | Whether or not the match was a semifinal. 1 = Yes, 0 = No.\n",
    " \n",
    "Break Point: If a player wins a break point, they win the service game of the opponent."
   ]
  },
  {
   "cell_type": "code",
   "execution_count": null,
   "id": "54e9612e",
   "metadata": {},
   "outputs": [],
   "source": [
    "# pulling function - 35967 matches\n",
    "df = prepare_atp()\n",
    "df.shape"
   ]
  },
  {
   "cell_type": "code",
   "execution_count": null,
   "id": "c391ff6f",
   "metadata": {},
   "outputs": [],
   "source": [
    "# confirm prepare\n",
    "df.head(1)"
   ]
  },
  {
   "cell_type": "code",
   "execution_count": null,
   "id": "ef7c0c10",
   "metadata": {},
   "outputs": [],
   "source": [
    "# # Pulling Player Database aggregated stats of players within the time span\n",
    "# PlayerData = pd.read_csv('PlayerData.csv')\n",
    "# PlayerData.shape"
   ]
  },
  {
   "cell_type": "code",
   "execution_count": null,
   "id": "82ae9cec",
   "metadata": {},
   "outputs": [],
   "source": [
    "## PlayerDatabase of 371 players that hit a maxrank of at least 100 and have 50 or more games\n",
    "#PlayerData.head()"
   ]
  },
  {
   "cell_type": "code",
   "execution_count": null,
   "id": "a4c69d9a",
   "metadata": {},
   "outputs": [],
   "source": [
    "# confirm clean\n",
    "df = clean_for_model(df)"
   ]
  },
  {
   "cell_type": "code",
   "execution_count": null,
   "id": "3502b616",
   "metadata": {},
   "outputs": [],
   "source": [
    "# split the data into train, validate, and test so that we can conform there is not overfitting on our model\n",
    "train, validate, test = train_validate_test_split(df)"
   ]
  },
  {
   "cell_type": "markdown",
   "id": "87cb64df",
   "metadata": {},
   "source": [
    "## Explore"
   ]
  },
  {
   "cell_type": "markdown",
   "id": "11e7e966",
   "metadata": {},
   "source": [
    "### What drives winning? "
   ]
  },
  {
   "cell_type": "markdown",
   "id": "f5ecb3b8",
   "metadata": {},
   "source": [
    "Plan for explore:\n",
    "\n",
    "To identify features to use in modeling, separate the groups by wins / losses and then see if there was a significant difference between variables in that group. For exapmple: I'll take all of the matches that player1 wins and get the mean rank points for player1 for that group then do the same for all of the matches where player1 loses. If there is a significant difference then hight is likely a driver of winning and losing."
   ]
  },
  {
   "cell_type": "code",
   "execution_count": null,
   "id": "6d45c3b5",
   "metadata": {},
   "outputs": [],
   "source": [
    "# seperate player 1 wins and losses into dfs\n",
    "player_1_w = train[train['player_1_wins'] == True]\n",
    "player_1_l = train[train['player_1_wins'] == False]"
   ]
  },
  {
   "cell_type": "code",
   "execution_count": null,
   "id": "0bc91b53",
   "metadata": {},
   "outputs": [],
   "source": [
    "# confirm wins df\n",
    "player_1_w.head(1)"
   ]
  },
  {
   "cell_type": "code",
   "execution_count": null,
   "id": "67174757",
   "metadata": {},
   "outputs": [],
   "source": [
    "# confirm losses df\n",
    "player_1_l.head(1)"
   ]
  },
  {
   "cell_type": "markdown",
   "id": "77b7ee3f",
   "metadata": {},
   "source": [
    "#### Does player_1_rank_points impact player_1_wins? "
   ]
  },
  {
   "cell_type": "markdown",
   "id": "12da3a63",
   "metadata": {},
   "source": [
    "I will check to see if the average ranking points when player 1 wins is not the same as when player 1 loses."
   ]
  },
  {
   "cell_type": "code",
   "execution_count": null,
   "id": "eca1463e",
   "metadata": {
    "scrolled": true
   },
   "outputs": [],
   "source": [
    "# Rank points\n",
    "print('Average rank points, all matches: ' + str(train['player_1_rank_points'].mean()))\n",
    "print('Average rank points, player 1 wins: ' + str(player_1_w['player_1_rank_points'].mean()))\n",
    "print('Average rank points, player 1 loses: ' + str(player_1_l['player_1_rank_points'].mean()))\n",
    "print('\\n')"
   ]
  },
  {
   "cell_type": "markdown",
   "id": "9d94c5d0",
   "metadata": {},
   "source": [
    "It does look like there's a significant difference in the average rank points amongst wins and losses.\n",
    "\n",
    "I will confirm that with stats and a visual: "
   ]
  },
  {
   "cell_type": "code",
   "execution_count": null,
   "id": "a4ab1f86",
   "metadata": {},
   "outputs": [],
   "source": [
    "# We want to be sure that the effect we see isn't explained by chance, so I will use a confidance interval of 95%\n",
    "# The resulting alpha is .05.\n",
    "null_hypothesis = \"The average ranking points when player 1 wins is the same as when player 1 loses.\"\n",
    "alternative_hypothesis = \"The average ranking points when player 1 wins is not the same as when player 1 loses.\" \n",
    "alpha = 0.01"
   ]
  },
  {
   "cell_type": "code",
   "execution_count": null,
   "id": "842c5387",
   "metadata": {},
   "outputs": [],
   "source": [
    "get_ttest_rank_points(train)"
   ]
  },
  {
   "cell_type": "code",
   "execution_count": null,
   "id": "a2195cb0",
   "metadata": {},
   "outputs": [],
   "source": [
    "p = 0.000\n",
    "if p < alpha:\n",
    "    print(\"We reject the null hypothesis that\", null_hypothesis)\n",
    "    print(\"We move forward with the alternative hypothesis that\", alternative_hypothesis)\n",
    "else:\n",
    "    print(\"We fail to reject the null\")\n",
    "    print(\"Our evidence does not support the claim that the average ranking points when player 1 wins is not the same as when player 1 loses\")\n"
   ]
  },
  {
   "cell_type": "code",
   "execution_count": null,
   "id": "a99ce1b3",
   "metadata": {},
   "outputs": [],
   "source": [
    "get_winning_player_rank_points(train)"
   ]
  },
  {
   "cell_type": "markdown",
   "id": "9cc947fe",
   "metadata": {},
   "source": [
    "##### Does player_1_hand_R impact player_1_wins?"
   ]
  },
  {
   "cell_type": "markdown",
   "id": "b595edee",
   "metadata": {},
   "source": [
    "I will check to see if there is a dependence between right hand used and player 1 winning using stats: "
   ]
  },
  {
   "cell_type": "code",
   "execution_count": null,
   "id": "368e4dbf",
   "metadata": {},
   "outputs": [],
   "source": [
    "# We want to be sure that the effect we see isn't explained by chance, so I will use a confidance interval of 95%\n",
    "# The resulting alpha is .05.\n",
    "null_hypothesis = \"There is no dependence between right hand used and player 1 winning\"\n",
    "alternative_hypothesis = \"There is a dependence between right hand used and player 1 winning\"\n",
    "alpha = 0.05"
   ]
  },
  {
   "cell_type": "code",
   "execution_count": null,
   "id": "b6c0536b",
   "metadata": {},
   "outputs": [],
   "source": [
    "get_chi_right_hand(train)"
   ]
  },
  {
   "cell_type": "code",
   "execution_count": null,
   "id": "03d42b59",
   "metadata": {},
   "outputs": [],
   "source": [
    "p = 0.0055\n",
    "if p < alpha:\n",
    "    print(\"We reject the null that\", null_hypothesis)\n",
    "    print(\"We move forward with the alternative hypothesis that\", alternative_hypothesis)\n",
    "else:\n",
    "    print(\"We fail to reject the null\")\n",
    "    print(\"Evidence does not support\", alternative_hypothesis)"
   ]
  },
  {
   "cell_type": "markdown",
   "id": "4da3faeb",
   "metadata": {},
   "source": [
    "##### Does player_1_hand_L impact player_1_wins?"
   ]
  },
  {
   "cell_type": "markdown",
   "id": "807b1f47",
   "metadata": {},
   "source": [
    "I will check to see if There is a dependence between left hand used and player 1 winning using stats:"
   ]
  },
  {
   "cell_type": "code",
   "execution_count": null,
   "id": "dff68643",
   "metadata": {},
   "outputs": [],
   "source": [
    "# We want to be sure that the effect we see isn't explained by chance, so I will use a confidance interval of 95%\n",
    "# The resulting alpha is .05.\n",
    "null_hypothesis = \"There is no dependence between left hand used and player 1 winning\"\n",
    "alternative_hypothesis = \"There is a dependence between left hand used and player 1 winning\"\n",
    "alpha = 0.05"
   ]
  },
  {
   "cell_type": "code",
   "execution_count": null,
   "id": "12a2e98f",
   "metadata": {},
   "outputs": [],
   "source": [
    "get_chi_left_hand(train)"
   ]
  },
  {
   "cell_type": "code",
   "execution_count": null,
   "id": "156cbfca",
   "metadata": {},
   "outputs": [],
   "source": [
    "p = 0.0055\n",
    "if p < alpha:\n",
    "    print(\"We reject the null that\", null_hypothesis)\n",
    "    print(\"We move forward with the alternative hypothesis that\", alternative_hypothesis)\n",
    "else:\n",
    "    print(\"We fail to reject the null\")\n",
    "    print(\"Evidence does not support\", alternative_hypothesis)"
   ]
  },
  {
   "cell_type": "markdown",
   "id": "fcbe5afb",
   "metadata": {},
   "source": [
    "##### Does surface_clay impact player_1_wins?"
   ]
  },
  {
   "cell_type": "markdown",
   "id": "8ffb3bfa",
   "metadata": {},
   "source": [
    "I will check to see if there is a dependence between clay surface used and player 1 winning using stats and a visual."
   ]
  },
  {
   "cell_type": "code",
   "execution_count": null,
   "id": "7fc49c5e",
   "metadata": {},
   "outputs": [],
   "source": [
    "# We want to be sure that the effect we see isn't explained by chance, so I will use a confidance interval of 95%\n",
    "# The resulting alpha is .05.\n",
    "null_hypothesis = \"There is no dependence between clay surface and player 1 winning\"\n",
    "alternative_hypothesis = \"There is a dependence between clay surface used and player 1 winning\"\n",
    "alpha = 0.05"
   ]
  },
  {
   "cell_type": "code",
   "execution_count": null,
   "id": "42dc23eb",
   "metadata": {},
   "outputs": [],
   "source": [
    "get_chi_clay(train)"
   ]
  },
  {
   "cell_type": "code",
   "execution_count": null,
   "id": "f0c9d17d",
   "metadata": {},
   "outputs": [],
   "source": [
    "p = 0.0032\n",
    "if p < alpha:\n",
    "    print(\"We reject the null that\", null_hypothesis)\n",
    "    print(\"We move forward with the alternative hypothesis that\", alternative_hypothesis)\n",
    "else:\n",
    "    print(\"We fail to reject the null\")\n",
    "    print(\"Evidence does not support\", alternative_hypothesis)"
   ]
  },
  {
   "cell_type": "code",
   "execution_count": null,
   "id": "a8c65e75",
   "metadata": {},
   "outputs": [],
   "source": [
    "get_pie_surface(train)"
   ]
  },
  {
   "cell_type": "markdown",
   "id": "f5be00c9",
   "metadata": {},
   "source": [
    "### Federer vs the World."
   ]
  },
  {
   "cell_type": "markdown",
   "id": "54f1469d",
   "metadata": {},
   "source": [
    "Whatever drives winning, no one can deny that Roger Federer has it in spades (or maybe in rackets). Over the years many have tried to dethrone the man many consider to be the best that ever played the game. Here is a look at Federer compared to some of his top rivals over the past 20 years. "
   ]
  },
  {
   "cell_type": "markdown",
   "id": "b8ec82d2",
   "metadata": {},
   "source": [
    "## Roger Federer vs Andy Roddick"
   ]
  },
  {
   "cell_type": "code",
   "execution_count": null,
   "id": "7492075c",
   "metadata": {},
   "outputs": [],
   "source": [
    "# Roger Federer 14 Wins\n",
    "# Andy Roddick 3 Wins\n",
    "e1.get_pie_wins_rod_fed()"
   ]
  },
  {
   "cell_type": "markdown",
   "id": "ea3790af",
   "metadata": {},
   "source": [
    "#### Federer dominated his rivalry with Roddick."
   ]
  },
  {
   "cell_type": "code",
   "execution_count": null,
   "id": "ab68b313",
   "metadata": {},
   "outputs": [],
   "source": [
    "# Showing the rivalry across the multiple years\n",
    "e1.rod_fed_bar()"
   ]
  },
  {
   "cell_type": "markdown",
   "id": "c44662fa",
   "metadata": {},
   "source": [
    "#### Roddick found the answers he was looking for on the court with Federer, but these moments were few and far between."
   ]
  },
  {
   "cell_type": "code",
   "execution_count": null,
   "id": "4710c2be",
   "metadata": {},
   "outputs": [],
   "source": [
    "e1.get_pies_upsets_fed_rod()"
   ]
  },
  {
   "cell_type": "markdown",
   "id": "0fec07a5",
   "metadata": {},
   "source": [
    "#### Most of Roddick's wins against Federer were upsets."
   ]
  },
  {
   "cell_type": "code",
   "execution_count": null,
   "id": "a1e24da2",
   "metadata": {},
   "outputs": [],
   "source": [
    "e1.get_pie_tourney_level_fed_rod()"
   ]
  },
  {
   "cell_type": "markdown",
   "id": "6fd7c3cf",
   "metadata": {},
   "source": [
    "#### Andy Roddick found answers for Federer only in Masters 1000s events. Specifically,  in the 2003 Canada Masters, and in 2008 & 2012 Miami."
   ]
  },
  {
   "cell_type": "markdown",
   "id": "5e861b07",
   "metadata": {},
   "source": [
    "## Roger Federer vs Andy Murray"
   ]
  },
  {
   "cell_type": "code",
   "execution_count": null,
   "id": "05facab8",
   "metadata": {},
   "outputs": [],
   "source": [
    "# Roger Federer 10 Wins\n",
    "# Andy Murray 10 Wins\n",
    "e1.get_pie_wins_mur_fed()"
   ]
  },
  {
   "cell_type": "markdown",
   "id": "1ec5e054",
   "metadata": {},
   "source": [
    "#### Federer and Murray have split their matchup wins throughout their careers."
   ]
  },
  {
   "cell_type": "code",
   "execution_count": null,
   "id": "2dbbdc67",
   "metadata": {},
   "outputs": [],
   "source": [
    "# Showing the rivalry across the multiple years\n",
    "e1.rod_mur_bar()"
   ]
  },
  {
   "cell_type": "markdown",
   "id": "7fc22cbe",
   "metadata": {},
   "source": [
    "#### While Murray did win a lot early meetings, Federer held most of the victories toward the end."
   ]
  },
  {
   "cell_type": "code",
   "execution_count": null,
   "id": "c9eb9cb5",
   "metadata": {},
   "outputs": [],
   "source": [
    "e1.get_pies_upsets_fed_mur()"
   ]
  },
  {
   "cell_type": "markdown",
   "id": "6df7d9a8",
   "metadata": {},
   "source": [
    "#### Most of Andy Murray's wins against Federer were upsets."
   ]
  },
  {
   "cell_type": "code",
   "execution_count": null,
   "id": "d52661f6",
   "metadata": {},
   "outputs": [],
   "source": [
    "e1.get_pie_tourney_level_fed_mur()"
   ]
  },
  {
   "cell_type": "markdown",
   "id": "ae834581",
   "metadata": {},
   "source": [
    "#### While Federer generally dominated Andy Murray at Major (Grand Slam) events, Andy Murray played past the pressure at lower tier events, especially in Masters 1000 tournaments."
   ]
  },
  {
   "cell_type": "markdown",
   "id": "5faca7a9",
   "metadata": {},
   "source": [
    "## Roger Federer vs Rafael Nadal"
   ]
  },
  {
   "cell_type": "code",
   "execution_count": null,
   "id": "2c02ace3",
   "metadata": {},
   "outputs": [],
   "source": [
    "#Roger Federer 11 Wins\n",
    "#Rafael Federer 19 Wins\n",
    "\n",
    "e1.get_pie_wins_nad_fed()"
   ]
  },
  {
   "cell_type": "markdown",
   "id": "f19eac8f",
   "metadata": {},
   "source": [
    "#### As spectacular as all of their matches were, Nadal generally dominated Federer throughout his career."
   ]
  },
  {
   "cell_type": "code",
   "execution_count": null,
   "id": "7110d786",
   "metadata": {},
   "outputs": [],
   "source": [
    "e1.rod_nad_bar()"
   ]
  },
  {
   "cell_type": "markdown",
   "id": "454e286c",
   "metadata": {},
   "source": [
    "#### While Nadal did dominate the rivalry over the years, Federer has won the majority of their recent meetings."
   ]
  },
  {
   "cell_type": "code",
   "execution_count": null,
   "id": "268afb71",
   "metadata": {},
   "outputs": [],
   "source": [
    "e1.get_pies_upsets_fed_nad()"
   ]
  },
  {
   "cell_type": "markdown",
   "id": "9f1460e5",
   "metadata": {},
   "source": [
    "#### Federer and Nadal both have a fair amount of upset wins between the two, but both players also beat each other quite a few as the favorite."
   ]
  },
  {
   "cell_type": "code",
   "execution_count": null,
   "id": "199d2c6a",
   "metadata": {},
   "outputs": [],
   "source": [
    "e1.get_pie_tourney_level_fed_nad()"
   ]
  },
  {
   "cell_type": "markdown",
   "id": "0e9889e5",
   "metadata": {},
   "source": [
    "#### Nadal dominated the rivalry on the big stages like Grand Slam events and at Masters 1000s events, but Federer won most of their meetings at the season ending events."
   ]
  },
  {
   "cell_type": "markdown",
   "id": "4fda69f9",
   "metadata": {},
   "source": [
    "## Roger Federer vs Novak Djokovic"
   ]
  },
  {
   "cell_type": "code",
   "execution_count": null,
   "id": "d2cea5ad",
   "metadata": {},
   "outputs": [],
   "source": [
    "# Roger Federer 11 Wins\n",
    "# Novak Djokovic 21 Wins\n",
    "e1.get_pie_wins_djo_fed()"
   ]
  },
  {
   "cell_type": "markdown",
   "id": "69975648",
   "metadata": {},
   "source": [
    "#### Federer and Djokovic have a pretty even amount of wins against each other."
   ]
  },
  {
   "cell_type": "code",
   "execution_count": null,
   "id": "3fa9a124",
   "metadata": {},
   "outputs": [],
   "source": [
    "e1.fed_djo_bar()"
   ]
  },
  {
   "cell_type": "markdown",
   "id": "66a0223f",
   "metadata": {},
   "source": [
    "#### While Federer dominated Djokovic early in the \"Djoker's\" career, Djokovic has been writing the pages for their meetings more often as of late."
   ]
  },
  {
   "cell_type": "code",
   "execution_count": null,
   "id": "8dea40f6",
   "metadata": {},
   "outputs": [],
   "source": [
    "e1.get_pies_upsets_djo_fed()"
   ]
  },
  {
   "cell_type": "markdown",
   "id": "89a6edc7",
   "metadata": {},
   "source": [
    "#### Federer and Djokovic upset each other quite a bit."
   ]
  },
  {
   "cell_type": "code",
   "execution_count": null,
   "id": "8b6e3be2",
   "metadata": {},
   "outputs": [],
   "source": [
    "e1.get_pie_tourney_level_fed_djo()"
   ]
  },
  {
   "cell_type": "markdown",
   "id": "cfc45426",
   "metadata": {},
   "source": [
    "#### Federer won the majority of their matchups at Masters 1000 events, but Djokovic wouldn't let victory go on the biggest of stages; Djokovic has grabbed the majority of their meetings at Majors."
   ]
  },
  {
   "cell_type": "markdown",
   "id": "ad9bf600",
   "metadata": {},
   "source": [
    "### Explore Summary: \n",
    "#### Federer vs. Roddick\n",
    "* Federer dominated his rivalry with Roddick.\n",
    "* Roddick found the answers he was looking for on the court with Federer, but these moments were few and far between.\n",
    "* Most of Roddick's wins against Federer were upsets.\n",
    "* Andy Roddick found answers for Federer only in Masters 1000s events. Specifically,  in the 2003 Canada Masters, and in 2008 & 2012 Miami.\n",
    "\n",
    "#### Federer vs. Murray\n",
    "* Federer and Murray have split their matchup wins throughout their careers.\n",
    "* While Murray did win a lot early meetings, Federer held most of the victories toward the end.\n",
    "* Most of Andy Murray's wins against Federer were upsets.\n",
    "* While Federer generally dominated Andy Murray at Major (Grand Slam) events, Andy Murray played past the pressure at lower tier events, especially in Masters 1000 tournaments.\n",
    "\n",
    "#### Federer vs. Nadal\n",
    "* As spectacular as all of their matches were, Nadal generally dominated Federer throughout his career.\n",
    "* While Nadal did dominate the rivalry over the years, Federer has won the majority of their recent meetings.\n",
    "* Federer and Nadal both have a fair amount of upset wins between the two, but both players also beat each other quite a few as the favorite.\n",
    "* Nadal dominated the rivalry on the big stages like Grand Slam events and at Masters 1000s events, but Federer won most of their meetings at the season ending events.\n",
    "\n",
    "#### Federer vs Djokovic\n",
    "* Federer and Djokovic have a pretty even amount of wins against each other.\n",
    "* While Federer dominated Djokovic early in the \"Djoker's\" career, Djokovic has been writing the pages for their meetings more often as of late.\n",
    "* Federer and Djokovic upset each other quite a bit.\n",
    "* Federer won the majority of their matchups at Masters 1000 events, but Djokovic wouldn't let victory go on the biggest of stages; Djokovic has grabbed the majority of their meetings at Majors.\n",
    "\n",
    "All of these rivalries have been unique. While Federer dominated Roddick throughout his entire career, Nadal dominated Federer earlier on, and Federer has won most of their recent meetings. While Federer split wins evenly with Murray and Djokovic career-total wise, Federer dominated Murray at Grand Slam events while Djokovic took control of most of his Grand Slam meetings with Federer. Nadal, Djokovic and Murray did upset him quite a bit on their paths to world number 1, and the few times Roddick prevailed, they, too, were upsets."
   ]
  },
  {
   "cell_type": "markdown",
   "id": "192cf283",
   "metadata": {},
   "source": [
    "### Features to Move Forward with to Modeling: "
   ]
  },
  {
   "cell_type": "markdown",
   "id": "42ec5fc0",
   "metadata": {},
   "source": [
    "Features to move forward with: player_1_rank_points, player_1_hand_R, player_1_hand_L, surface_Clay."
   ]
  },
  {
   "cell_type": "markdown",
   "id": "c0579829",
   "metadata": {},
   "source": [
    "## Modeling"
   ]
  },
  {
   "cell_type": "markdown",
   "id": "983d26af",
   "metadata": {},
   "source": [
    "Before modeling, there a little bit of preparing that needs to happen. For model_prep function see model.py. "
   ]
  },
  {
   "cell_type": "code",
   "execution_count": null,
   "id": "a05cdafa",
   "metadata": {},
   "outputs": [],
   "source": [
    "X_train, X_validate, X_test, y_train, y_validate, y_test = model_prep(train,validate,test)"
   ]
  },
  {
   "cell_type": "code",
   "execution_count": null,
   "id": "ad5643fe",
   "metadata": {},
   "outputs": [],
   "source": [
    "X_train.head(1)"
   ]
  },
  {
   "cell_type": "code",
   "execution_count": null,
   "id": "3e8fbec6",
   "metadata": {},
   "outputs": [],
   "source": [
    "X_train.isnull().sum()"
   ]
  },
  {
   "cell_type": "markdown",
   "id": "c2e62fda",
   "metadata": {},
   "source": [
    "### Baseline"
   ]
  },
  {
   "cell_type": "markdown",
   "id": "6023c4f1",
   "metadata": {},
   "source": [
    "Creating a baseline to compare the final model preformance to is the last step before modeling. "
   ]
  },
  {
   "cell_type": "markdown",
   "id": "678538b6",
   "metadata": {},
   "source": [
    "The baseline that will be used here is the chance that the highest ranked player will win without an upset."
   ]
  },
  {
   "cell_type": "code",
   "execution_count": null,
   "id": "bb6929d7",
   "metadata": {},
   "outputs": [],
   "source": [
    "# look at the uno_pset column\n",
    "train.no_upset.head(1)"
   ]
  },
  {
   "cell_type": "code",
   "execution_count": null,
   "id": "c2da58bd",
   "metadata": {},
   "outputs": [],
   "source": [
    "# find the value counts for no_upset\n",
    "train.no_upset.value_counts(normalize=True)"
   ]
  },
  {
   "cell_type": "code",
   "execution_count": null,
   "id": "af1a64b8",
   "metadata": {},
   "outputs": [],
   "source": [
    "# find the most frequently occurring value in no_upset\n",
    "baseline = train.no_upset.mode()\n",
    "baseline"
   ]
  },
  {
   "cell_type": "code",
   "execution_count": null,
   "id": "9f6aa18b",
   "metadata": {},
   "outputs": [],
   "source": [
    "# set baseline and check accuracy\n",
    "match_bsl_prediction = train.no_upset == 1\n",
    "baseline_accuracy = match_bsl_prediction.mean()\n",
    "# basline accuracy = 64%%\n",
    "baseline_accuracy"
   ]
  },
  {
   "cell_type": "markdown",
   "id": "37002338",
   "metadata": {},
   "source": [
    "##### The baseline accuracy is 64%."
   ]
  },
  {
   "cell_type": "markdown",
   "id": "087a189b",
   "metadata": {},
   "source": [
    "### Decision Tree"
   ]
  },
  {
   "cell_type": "code",
   "execution_count": null,
   "id": "e07307e6",
   "metadata": {
    "scrolled": true
   },
   "outputs": [],
   "source": [
    "# get_decision_tree from model.py with a max depth of 3\n",
    "get_decision_tree(X_train, X_validate, y_train, y_validate)"
   ]
  },
  {
   "cell_type": "markdown",
   "id": "a229361f",
   "metadata": {},
   "source": [
    "### Random Forest"
   ]
  },
  {
   "cell_type": "code",
   "execution_count": null,
   "id": "03955b32",
   "metadata": {},
   "outputs": [],
   "source": [
    "# get_random_forest from model.py with a max depth of 13 and min samples leaf of 3\n",
    "get_random_forest(X_train, X_validate, y_train, y_validate)"
   ]
  },
  {
   "cell_type": "markdown",
   "id": "81a82184",
   "metadata": {},
   "source": [
    "### Logistic Regression"
   ]
  },
  {
   "cell_type": "code",
   "execution_count": null,
   "id": "9e29b9fc",
   "metadata": {},
   "outputs": [],
   "source": [
    "# get_log_reg from model.py with c = 9\n",
    "get_log_reg(X_train, X_validate, y_train, y_validate)"
   ]
  },
  {
   "cell_type": "markdown",
   "id": "3446cbfa",
   "metadata": {},
   "source": [
    "##### best model = logistic regression with an accuracy on validate date of 59%."
   ]
  },
  {
   "cell_type": "markdown",
   "id": "9b5381b6",
   "metadata": {},
   "source": [
    "## Conclusion \n",
    "* Rivals that won half or more meetings with Federer beat him at Grand Slam events\n",
    "* The surface of the court affects the outcome of players performance\n",
    "* Players performed differently based on the tourney level\n",
    "* Higher ranked players win more often (about 64.28% of the time)\n",
    "* Baseline beat our best model by 6%"
   ]
  },
  {
   "cell_type": "markdown",
   "id": "c08313fa",
   "metadata": {},
   "source": [
    "## Next Steps"
   ]
  },
  {
   "cell_type": "markdown",
   "id": "7c17cdf9",
   "metadata": {},
   "source": [
    "- Create a model to predict if a player will reach the top 30 ranking by evaluating their first 50 games\n",
    "- Filter for players that hit a max rank of 100 or better\n",
    "- Aggregate full stats for Aces, Breakpoints, Double Faults, Wins, and First Serve Win by Match\n",
    "- Aggregate career performance by court surface (hard, grass, clay, carpet)\n",
    "- Aggregate first 50 matches statistics - later use to predict future ranking"
   ]
  },
  {
   "cell_type": "markdown",
   "id": "cdb31f5d",
   "metadata": {},
   "source": [
    "### Questions for our further exploration:\n",
    "- Does a difference in career average break points won impact victory?\n",
    "\n",
    "- Does a difference in career average break points saved impact victory?\n",
    "\n",
    "- What characteristics and trends determine a player to become a top 30?\n",
    "\n",
    "- Does surface performance predict a player's future rank?\n",
    "\n",
    "- Does a difference in career percent-of-break-points-won impact victory?"
   ]
  },
  {
   "cell_type": "code",
   "execution_count": null,
   "id": "c0b34758",
   "metadata": {},
   "outputs": [],
   "source": []
  }
 ],
 "metadata": {
  "kernelspec": {
   "display_name": "Python 3",
   "language": "python",
   "name": "python3"
  },
  "language_info": {
   "codemirror_mode": {
    "name": "ipython",
    "version": 3
   },
   "file_extension": ".py",
   "mimetype": "text/x-python",
   "name": "python",
   "nbconvert_exporter": "python",
   "pygments_lexer": "ipython3",
   "version": "3.8.8"
  }
 },
 "nbformat": 4,
 "nbformat_minor": 5
}
