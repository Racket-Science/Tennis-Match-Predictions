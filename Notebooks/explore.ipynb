{
 "cells": [
  {
   "cell_type": "markdown",
   "id": "60256f41",
   "metadata": {},
   "source": [
    "# Helper Files for the Explore Section"
   ]
  },
  {
   "cell_type": "markdown",
   "id": "41d527db",
   "metadata": {},
   "source": [
    "### imports"
   ]
  },
  {
   "cell_type": "code",
   "execution_count": 1,
   "id": "3c88dcad",
   "metadata": {},
   "outputs": [],
   "source": [
    "# imports\n",
    "\n",
    "import pandas as pd\n",
    "import numpy as np\n",
    "import regex as re\n",
    "\n",
    "# Custom Helper Files\n",
    "from prepare import *\n",
    "\n",
    "# Stats\n",
    "from scipy import stats\n",
    "\n",
    "# Visualize\n",
    "import matplotlib.pyplot as plt\n",
    "import seaborn as sns\n",
    "\n",
    "# Split \n",
    "from sklearn.model_selection import train_test_split\n",
    "\n",
    "# Ignore Warnings\n",
    "import warnings\n",
    "warnings.filterwarnings(\"ignore\")\n",
    "\n",
    "# Remove Limits On Viewing Dataframes\n",
    "pd.set_option('display.max_columns', None)"
   ]
  },
  {
   "cell_type": "code",
   "execution_count": 2,
   "id": "799b292b",
   "metadata": {},
   "outputs": [],
   "source": [
    "df = prepare_atp()"
   ]
  },
  {
   "cell_type": "code",
   "execution_count": 26,
   "id": "45e89890",
   "metadata": {},
   "outputs": [],
   "source": [
    "# df.head(1)"
   ]
  },
  {
   "cell_type": "code",
   "execution_count": 29,
   "id": "64f368ef",
   "metadata": {},
   "outputs": [],
   "source": [
    "# Remove Limits On Viewing Dataframes\n",
    "# pd.set_option('display.max_rows', None)"
   ]
  },
  {
   "cell_type": "code",
   "execution_count": 27,
   "id": "53cf4f75",
   "metadata": {},
   "outputs": [],
   "source": [
    "df = clean_for_model(df)"
   ]
  },
  {
   "cell_type": "code",
   "execution_count": 28,
   "id": "3b263f71",
   "metadata": {},
   "outputs": [],
   "source": [
    "# df.head(1)"
   ]
  },
  {
   "cell_type": "code",
   "execution_count": 7,
   "id": "af3927e8",
   "metadata": {},
   "outputs": [],
   "source": [
    "train, validate, test = train_validate_test_split(df)"
   ]
  },
  {
   "cell_type": "code",
   "execution_count": 10,
   "id": "bcc37353",
   "metadata": {},
   "outputs": [],
   "source": [
    "# player1_rankpoints, player1_righthand, player1_lefthand, Clay."
   ]
  },
  {
   "cell_type": "code",
   "execution_count": 8,
   "id": "8af454d8",
   "metadata": {},
   "outputs": [],
   "source": [
    "def get_ttest_rank_points(train):\n",
    "    '''This function: \n",
    "    returns rusults of chi-square for player_1_wins and player1_rankpoints'''\n",
    "\n",
    "    t, p = stats.ttest_1samp(train.player_1_wins, train.player1_rankpoints.mean())\n",
    "\n",
    "    print(f't = {t:.3f}')\n",
    "    print(f'p = {p:.3f}')"
   ]
  },
  {
   "cell_type": "code",
   "execution_count": 30,
   "id": "c2b52431",
   "metadata": {},
   "outputs": [],
   "source": [
    "# get_ttest_rank_points(train)"
   ]
  },
  {
   "cell_type": "code",
   "execution_count": 11,
   "id": "c090023e",
   "metadata": {},
   "outputs": [],
   "source": [
    "def get_winning_player_rank_points(train):\n",
    "    '''This function: \n",
    "     gets graph of average player ranking points for train'''\n",
    "\n",
    "    # create axis object\n",
    "    fig, (ax1,ax2) = plt.subplots(1,2)\n",
    "    \n",
    "    # assign values and labels for ax1\n",
    "    values = [train.player1_rankpoints[(train.player_1_wins == True)].mean(), train.player1_rankpoints[(train.player_1_wins == False)].mean()]\n",
    "    labels = ['Wins','Losses']\n",
    "\n",
    "    # generate and display graph\n",
    "    ax1.bar(height=values, x=labels, color=['#dfff4f', '#3C638E'])\n",
    "    ax1.title.set_text(\"Player 1's Mean Rank Points\")\n",
    "   \n",
    "    # assign values and labels for ax2\n",
    "    values = [train.player2_rankpoints[(train.player_1_wins == False)].mean(), train.player2_rankpoints[(train.player_1_wins == True)].mean()]\n",
    "    labels = ['Wins','Losses']\n",
    "\n",
    "    # generate and display graph\n",
    "    ax2.bar(height=values, x=labels, color=['#dfff4f', '#3C638E'])\n",
    "    ax2.title.set_text(\"Player 2's Mean Rank Points\")\n",
    "   \n",
    "    # display plot\n",
    "    plt.tight_layout()\n",
    "    plt.show()"
   ]
  },
  {
   "cell_type": "code",
   "execution_count": 31,
   "id": "c9ff2d8a",
   "metadata": {},
   "outputs": [],
   "source": [
    "# get_winning_player_rank_points(train)"
   ]
  },
  {
   "cell_type": "code",
   "execution_count": 17,
   "id": "8ff2c232",
   "metadata": {},
   "outputs": [],
   "source": [
    "def get_chi_right_hand(train):\n",
    "    '''This function: \n",
    "    returns rusults of chi-square for player_1_wins and player1_rankpoints'''\n",
    "\n",
    "    observed = pd.crosstab(train.player1_righthand, train.player_1_wins)\n",
    "    chi2, p, degf, expected = stats.chi2_contingency(observed)\n",
    "    p\n",
    "\n",
    "    print(f'chi^2 = {chi2:.4f}')\n",
    "    print(f'p = {p:.4f}')"
   ]
  },
  {
   "cell_type": "code",
   "execution_count": 32,
   "id": "cc4c9fb7",
   "metadata": {},
   "outputs": [],
   "source": [
    "# get_chi_right_hand(train)"
   ]
  },
  {
   "cell_type": "code",
   "execution_count": 19,
   "id": "4872142c",
   "metadata": {},
   "outputs": [],
   "source": [
    "def get_chi_left_hand(train):\n",
    "    '''This function: \n",
    "    returns rusults of chi-square for player_1_wins and player1_rankpoints'''\n",
    "\n",
    "    observed = pd.crosstab(train.player1_lefthand, train.player_1_wins)\n",
    "    chi2, p, degf, expected = stats.chi2_contingency(observed)\n",
    "    p\n",
    "\n",
    "    print(f'chi^2 = {chi2:.4f}')\n",
    "    print(f'p = {p:.4f}')"
   ]
  },
  {
   "cell_type": "code",
   "execution_count": 33,
   "id": "5c4fc824",
   "metadata": {},
   "outputs": [],
   "source": [
    "# get_chi_left_hand(train)"
   ]
  },
  {
   "cell_type": "code",
   "execution_count": 22,
   "id": "8eff3b54",
   "metadata": {},
   "outputs": [],
   "source": [
    "def get_pie_surface(train):\n",
    "    '''get pie chart of player win percentage for clay surface type'''\n",
    "\n",
    "    # activate subplots objects\n",
    "    fig, axs = plt.subplots(2, 2, figsize=(10,8))\n",
    "\n",
    "    # list of charts to be generated\n",
    "    surfaces = ['Clay', 'Hard', 'Grass', 'Carpet']\n",
    "\n",
    "    # generate graphs and assign them to subplots\n",
    "    for surface, ax in zip(surfaces, axs.ravel()):\n",
    "        \n",
    "        values = [len(train.player_1_wins[(train.player_1_wins == True) & (train.surface == surface)]), len(train.player_1_wins[(train.player_1_wins == False) & (train.surface == surface)])] \n",
    "        labels = ['Player1 Wins','Player 2 Wins']\n",
    "        \n",
    "        ax.pie(values, labels=labels, autopct='%.0f%%', colors=['#dfff4f', '#3C638E'])\n",
    "        ax.set_title(f'Win Percentage for surface {surface}')\n",
    "    \n",
    "    # display chart\n",
    "    plt.tight_layout()\n",
    "    plt.show()"
   ]
  },
  {
   "cell_type": "code",
   "execution_count": 34,
   "id": "98a2fb6b",
   "metadata": {},
   "outputs": [],
   "source": [
    "# get_pie_surface(train)"
   ]
  },
  {
   "cell_type": "code",
   "execution_count": 24,
   "id": "0f3c0673",
   "metadata": {},
   "outputs": [],
   "source": [
    "def get_chi_clay(train):\n",
    "    '''This function: \n",
    "    returns rusults of chi-square for player_1_wins and player1_rankpoints'''\n",
    "\n",
    "    observed = pd.crosstab(train.Clay, train.player_1_wins)\n",
    "    chi2, p, degf, expected = stats.chi2_contingency(observed)\n",
    "    p\n",
    "\n",
    "    print(f'chi^2 = {chi2:.4f}')\n",
    "    print(f'p = {p:.4f}')"
   ]
  },
  {
   "cell_type": "code",
   "execution_count": 35,
   "id": "c1bff7b0",
   "metadata": {},
   "outputs": [],
   "source": [
    "# get_chi_clay(train)"
   ]
  },
  {
   "cell_type": "code",
   "execution_count": null,
   "id": "d007dc97",
   "metadata": {},
   "outputs": [],
   "source": []
  }
 ],
 "metadata": {
  "kernelspec": {
   "display_name": "Python 3",
   "language": "python",
   "name": "python3"
  },
  "language_info": {
   "codemirror_mode": {
    "name": "ipython",
    "version": 3
   },
   "file_extension": ".py",
   "mimetype": "text/x-python",
   "name": "python",
   "nbconvert_exporter": "python",
   "pygments_lexer": "ipython3",
   "version": "3.8.8"
  }
 },
 "nbformat": 4,
 "nbformat_minor": 5
}
